{
  "nbformat": 4,
  "nbformat_minor": 0,
  "metadata": {
    "kernelspec": {
      "display_name": "Python 3",
      "language": "python",
      "name": "python3"
    },
    "language_info": {
      "codemirror_mode": {
        "name": "ipython",
        "version": 3
      },
      "file_extension": ".py",
      "mimetype": "text/x-python",
      "name": "python",
      "nbconvert_exporter": "python",
      "pygments_lexer": "ipython3",
      "version": "3.8.5"
    },
    "colab": {
      "name": "zerotopandas-course-project.ipynb",
      "provenance": [],
      "include_colab_link": true
    }
  },
  "cells": [
    {
      "cell_type": "markdown",
      "metadata": {
        "id": "view-in-github",
        "colab_type": "text"
      },
      "source": [
        "<a href=\"https://colab.research.google.com/github/ayushxx7/pandas-course-project/blob/master/zerotopandas_course_project.ipynb\" target=\"_parent\"><img src=\"https://colab.research.google.com/assets/colab-badge.svg\" alt=\"Open In Colab\"/></a>"
      ]
    },
    {
      "cell_type": "code",
      "metadata": {
        "id": "jBqRMFOLA8mM"
      },
      "source": [
        "# Jovian Commit Essentials\n",
        "# Please retain and execute this cell without modifying the contents for `jovian.commit` to work\n",
        "!pip install jovian --upgrade -q\n",
        "import jovian\n",
        "jovian.utils.colab.set_colab_file_id('1TyooF3dWsfH-U9u8Bp4g-jIZW1ufaD8C')"
      ],
      "execution_count": 8,
      "outputs": []
    },
    {
      "cell_type": "markdown",
      "metadata": {
        "id": "0woH2yxBA8mR"
      },
      "source": [
        "### Data Analysis with Python: Zero to Pandas - Course Project Guidelines\n",
        "#### (remove this cell before submission)\n",
        "\n",
        "Make submissions here:  https://jovian.ml/learn/data-analysis-with-python-zero-to-pandas/assignment/course-project\n",
        "\n",
        "This is the starter notebook for the course project for [Data Analysis with Python: Zero to Pandas](https://jovian.ml/learn/data-analysis-with-python-zero-to-pandas). For the course project, you will pick a real-world dataset of your choice and apply the concepts learned in this course to perform exploratory data analysis. Use this starter notebook as an outline for your project (you can also start with an empty new notebook). Focus on documentation and presentation - this Jupyter notebook will also serve as a project report, so make sure to include detailed explanations whererver possible using Markdown cells.\n",
        "\n",
        "#### Step 1: Select a real-world dataset \n",
        "\n",
        "- Find and download an interesting real-world dataset (see the Recommended Datasets section below for ideas). \n",
        "\n",
        "- The dataset should contain tabular data (rowsn & columns), preferably in CSV/JSON/XLS or other formats that can be read using Pandas. If it's not in a compatible format, you may have to write some code to convert it to a desired format.\n",
        "- The dataset should contain at least 3 columns and 150 rows of data. You can also combine data from multiple sources to create a large enough dataset.\n",
        "\n",
        "\n",
        "#### Step 2: Perform data preparation & cleaning\n",
        "\n",
        "- Load the dataset into a data frame using Pandas\n",
        "- Explore the number of rows & columns, ranges of values etc.\n",
        "- Handle missing, incorrect and invalid data\n",
        "- Perform any additional steps (parsing dates, creating additional columns, merging multiple dataset etc.)\n",
        "\n",
        "\n",
        "#### Step 3: Perform exploratory Analysis & Visualization\n",
        "\n",
        "- Compute the mean, sum, range and other interesting statistics for numeric columns\n",
        "- Explore distributions of numeric columns using histograms etc.\n",
        "- Explore relationship between columns using scatter plots, bar charts etc.\n",
        "- Make a note of interesting insights from the exploratory analysis\n",
        "\n",
        "#### Step 4: Ask & answer questions about the data\n",
        "\n",
        "- Ask at least 5 interesting questions about your dataset\n",
        "- Answer the questions either by computing the results using Numpy/Pandas or by plotting graphs using Matplotlib/Seaborn\n",
        "- Create new columns, merge multiple dataset and perform grouping/aggregation wherever necessary\n",
        "- Wherever you're using a library function from Pandas/Numpy/Matplotlib etc. explain briefly what it does\n",
        "\n",
        "\n",
        "#### Step 5: Summarize your inferences & write a conclusion\n",
        "\n",
        "- Write a summary of what you've learned from the analysis\n",
        "- Include interesting insights and graphs from previous sections\n",
        "- Share ideas for future work on the same topic using other relevant datasets\n",
        "- Share links to resources you found useful during your analysis\n",
        "\n",
        "\n",
        "#### Step 6: Make a submission & share your work\n",
        "\n",
        "- Upload your notebook to your Jovian.ml profile using `jovian.commit`.\n",
        "- **Make a submission here**: https://jovian.ml/learn/data-analysis-with-python-zero-to-pandas/assignment/course-project\n",
        "- Share your work on the forum: https://jovian.ml/forum/t/course-project-on-exploratory-data-analysis-discuss-and-share-your-work/11684\n",
        "\n",
        "- Browse through projects shared by other participants and give feedback\n",
        "\n",
        "\n",
        "#### (Optional) Step 7: Write a blog post\n",
        "\n",
        "- A blog post is a great way to present and showcase your work.  \n",
        "- Sign up on [Medium.com](https://medium.com) to write a blog post for your project.\n",
        "- Copy over the explanations from your Jupyter notebook into your blog post, and [embed code cells & outputs](https://medium.com/jovianml/share-and-embed-jupyter-notebooks-online-with-jovian-ml-df709a03064e)\n",
        "- Check out the Jovian.ml Medium publication for inspiration: https://medium.com/jovianml\n",
        "\n",
        "\n",
        "\n",
        "### Recommended Datasets\n",
        "\n",
        "\n",
        "Use the following resources for finding interesting datasets:\n",
        "\n",
        "- [Recommended datasets for the course project](https://jovian.ml/forum/t/recommended-datasets-for-course-project/11711)\n",
        "- [Kaggle datasets](https://www.kaggle.com/datasets)\n",
        "- [UCI Machine Learning Repository](http://archive.ics.uci.edu/ml/index.php)\n",
        "- [awesome-public-datasets](https://github.com/awesomedata/awesome-public-datasets)\n",
        "- [Google Dataset Search](https://datasetsearch.research.google.com)\n",
        "- [Your personal data from online services](https://www.popsci.com/download-digital-personal-information/)\n",
        "\n",
        "\n",
        "\n",
        "### Example Projects\n",
        "\n",
        "Refer to these projects for inspiration:\n",
        "\n",
        "* [Analyzing your browser history using Pandas & Seaborn](https://medium.com/free-code-camp/understanding-my-browsing-pattern-using-pandas-and-seaborn-162b97e33e51) by Kartik Godawat\n",
        "\n",
        "* [WhatsApp Chat Data Analysis](https://jovian.ml/PrajwalPrashanth/whatsapp-chat-data-analysis) by Prajwal Prashanth\n",
        "\n",
        "* [Analyzing Covid-19 data using Pandas](https://jovian.ml/aakashns/python-pandas-data-analysis) \n",
        "\n",
        "* [Understanding the Gender Divide in Data Science Roles](https://medium.com/datadriveninvestor/exploratory-data-analysis-eda-understanding-the-gender-divide-in-data-science-roles-9faa5da44f5b) by Aakanksha N S\n",
        "\n",
        "* [2019 State of Javscript Survey Results](https://2019.stateofjs.com/demographics/)\n",
        "\n",
        "* [2020 Stack Overflow Developer Survey Results](https://insights.stackoverflow.com/survey/2020)\n",
        "\n",
        "\n",
        "### Evaluation Criteria\n",
        "\n",
        "Your submission will be evaluated using the following criteria:\n",
        "\n",
        "* Dataset must contain at least 3 columns and 150 rows of data\n",
        "* You must ask and answer at least 5 questions about the dataset\n",
        "* Your submission must include at least 5 visualizations (graphs)\n",
        "* Your submission must include explanations using markdown cells, apart from the code.\n",
        "* Your work must not be plagiarized i.e. copy-pasted for somewhere else.\n",
        "\n",
        "\n",
        "**NOTE**: Remove this cell containing the instructions before making your submission. You can do using the \"Edit > Delete Cells\" menu option."
      ]
    },
    {
      "cell_type": "markdown",
      "metadata": {
        "id": "u1Q3TcK0A8mS"
      },
      "source": [
        "# Analyzing the Android App Store\n",
        "\n",
        "Write some introduction about your project here: describe the dataset, where you got it from, what you're trying to do with it, and which tools & techniques you're using. You can also mention about [the course](http://zerotopandas.com), and what you've learned from it.\n",
        "\n",
        "As a first step, let's upload our Jupyter notebook to [Jovian.ml](https://jovian.ml)."
      ]
    },
    {
      "cell_type": "code",
      "metadata": {
        "id": "bLuqgMRXA8mS"
      },
      "source": [
        "project_name = \"analyzing-the-android-app-store\" # change this"
      ],
      "execution_count": 6,
      "outputs": []
    },
    {
      "cell_type": "code",
      "metadata": {
        "id": "hlir5Uc7A8mV",
        "outputId": "1d5cc3df-24a9-46c3-9338-83c50471a556",
        "colab": {
          "base_uri": "https://localhost:8080/",
          "height": 50
        }
      },
      "source": [
        "!pip install jovian --upgrade -q"
      ],
      "execution_count": 3,
      "outputs": [
        {
          "output_type": "stream",
          "text": [
            "\u001b[?25l\r\u001b[K     |█████                           | 10kB 18.5MB/s eta 0:00:01\r\u001b[K     |██████████                      | 20kB 1.8MB/s eta 0:00:01\r\u001b[K     |███████████████                 | 30kB 2.3MB/s eta 0:00:01\r\u001b[K     |████████████████████            | 40kB 2.6MB/s eta 0:00:01\r\u001b[K     |█████████████████████████       | 51kB 2.1MB/s eta 0:00:01\r\u001b[K     |██████████████████████████████  | 61kB 2.3MB/s eta 0:00:01\r\u001b[K     |████████████████████████████████| 71kB 2.1MB/s \n",
            "\u001b[?25h  Building wheel for uuid (setup.py) ... \u001b[?25l\u001b[?25hdone\n"
          ],
          "name": "stdout"
        }
      ]
    },
    {
      "cell_type": "code",
      "metadata": {
        "id": "rhhkGZRbA8mX"
      },
      "source": [
        "import jovian"
      ],
      "execution_count": 4,
      "outputs": []
    },
    {
      "cell_type": "code",
      "metadata": {
        "id": "w_mcCi38A8mZ",
        "outputId": "11103df3-4076-49e2-a333-51cc0a8bd793",
        "colab": {
          "base_uri": "https://localhost:8080/",
          "height": 86
        }
      },
      "source": [
        "jovian.commit(project=project_name)"
      ],
      "execution_count": 9,
      "outputs": [
        {
          "output_type": "stream",
          "text": [
            "[jovian] Detected Colab notebook...\u001b[0m\n",
            "[jovian] Uploading colab notebook to Jovian...\u001b[0m\n",
            "[jovian] Committed successfully! https://jovian.ml/ayushxx7/analyzing-the-android-app-store\u001b[0m\n"
          ],
          "name": "stdout"
        },
        {
          "output_type": "execute_result",
          "data": {
            "application/vnd.google.colaboratory.intrinsic+json": {
              "type": "string"
            },
            "text/plain": [
              "'https://jovian.ml/ayushxx7/analyzing-the-android-app-store'"
            ]
          },
          "metadata": {
            "tags": []
          },
          "execution_count": 9
        }
      ]
    },
    {
      "cell_type": "markdown",
      "metadata": {
        "id": "AK-Dwvu4A8mc"
      },
      "source": [
        "## Data Preparation and Cleaning\n",
        "\n",
        "TODO\n",
        "\n",
        "---\n",
        "\n",
        "\n",
        "\n",
        "```\n",
        "# This is formatted as code\n",
        "```\n",
        "\n"
      ]
    },
    {
      "cell_type": "code",
      "metadata": {
        "id": "BwychcmfA8mc"
      },
      "source": [
        "import pandas as pd"
      ],
      "execution_count": 10,
      "outputs": []
    },
    {
      "cell_type": "code",
      "metadata": {
        "id": "fAULeE5iA8me",
        "outputId": "2184bfe9-792d-4d04-9bed-915191eb9e3d",
        "colab": {
          "base_uri": "https://localhost:8080/",
          "height": 279
        }
      },
      "source": [
        "df = pd.read_csv('https://docs.google.com/spreadsheets/d/1A0Eu8KuHG8ZHi7qufUy9nNdA0yArEIor3_2Yv3RYZ2I/export?gid=0&format=csv')\n",
        "df.head()"
      ],
      "execution_count": 23,
      "outputs": [
        {
          "output_type": "execute_result",
          "data": {
            "text/html": [
              "<div>\n",
              "<style scoped>\n",
              "    .dataframe tbody tr th:only-of-type {\n",
              "        vertical-align: middle;\n",
              "    }\n",
              "\n",
              "    .dataframe tbody tr th {\n",
              "        vertical-align: top;\n",
              "    }\n",
              "\n",
              "    .dataframe thead th {\n",
              "        text-align: right;\n",
              "    }\n",
              "</style>\n",
              "<table border=\"1\" class=\"dataframe\">\n",
              "  <thead>\n",
              "    <tr style=\"text-align: right;\">\n",
              "      <th></th>\n",
              "      <th>App</th>\n",
              "      <th>Category</th>\n",
              "      <th>Rating</th>\n",
              "      <th>Reviews</th>\n",
              "      <th>Size</th>\n",
              "      <th>Installs</th>\n",
              "      <th>Type</th>\n",
              "      <th>Price</th>\n",
              "      <th>Content Rating</th>\n",
              "      <th>Genres</th>\n",
              "      <th>Last Updated</th>\n",
              "      <th>Current Ver</th>\n",
              "      <th>Android Ver</th>\n",
              "    </tr>\n",
              "  </thead>\n",
              "  <tbody>\n",
              "    <tr>\n",
              "      <th>0</th>\n",
              "      <td>Photo Editor &amp; Candy Camera &amp; Grid &amp; ScrapBook</td>\n",
              "      <td>ART_AND_DESIGN</td>\n",
              "      <td>4.1</td>\n",
              "      <td>159</td>\n",
              "      <td>19M</td>\n",
              "      <td>10,000+</td>\n",
              "      <td>Free</td>\n",
              "      <td>0</td>\n",
              "      <td>Everyone</td>\n",
              "      <td>Art &amp; Design</td>\n",
              "      <td>January 7, 2018</td>\n",
              "      <td>1.0.0</td>\n",
              "      <td>4.0.3 and up</td>\n",
              "    </tr>\n",
              "    <tr>\n",
              "      <th>1</th>\n",
              "      <td>Coloring book moana</td>\n",
              "      <td>ART_AND_DESIGN</td>\n",
              "      <td>3.9</td>\n",
              "      <td>967</td>\n",
              "      <td>14M</td>\n",
              "      <td>500,000+</td>\n",
              "      <td>Free</td>\n",
              "      <td>0</td>\n",
              "      <td>Everyone</td>\n",
              "      <td>Art &amp; Design;Pretend Play</td>\n",
              "      <td>January 15, 2018</td>\n",
              "      <td>2.0.0</td>\n",
              "      <td>4.0.3 and up</td>\n",
              "    </tr>\n",
              "    <tr>\n",
              "      <th>2</th>\n",
              "      <td>U Launcher Lite – FREE Live Cool Themes, Hide ...</td>\n",
              "      <td>ART_AND_DESIGN</td>\n",
              "      <td>4.7</td>\n",
              "      <td>87510</td>\n",
              "      <td>8.7M</td>\n",
              "      <td>5,000,000+</td>\n",
              "      <td>Free</td>\n",
              "      <td>0</td>\n",
              "      <td>Everyone</td>\n",
              "      <td>Art &amp; Design</td>\n",
              "      <td>August 1, 2018</td>\n",
              "      <td>1.2.4</td>\n",
              "      <td>4.0.3 and up</td>\n",
              "    </tr>\n",
              "    <tr>\n",
              "      <th>3</th>\n",
              "      <td>Sketch - Draw &amp; Paint</td>\n",
              "      <td>ART_AND_DESIGN</td>\n",
              "      <td>4.5</td>\n",
              "      <td>215644</td>\n",
              "      <td>25M</td>\n",
              "      <td>50,000,000+</td>\n",
              "      <td>Free</td>\n",
              "      <td>0</td>\n",
              "      <td>Teen</td>\n",
              "      <td>Art &amp; Design</td>\n",
              "      <td>June 8, 2018</td>\n",
              "      <td>Varies with device</td>\n",
              "      <td>4.2 and up</td>\n",
              "    </tr>\n",
              "    <tr>\n",
              "      <th>4</th>\n",
              "      <td>Pixel Draw - Number Art Coloring Book</td>\n",
              "      <td>ART_AND_DESIGN</td>\n",
              "      <td>4.3</td>\n",
              "      <td>967</td>\n",
              "      <td>2.8M</td>\n",
              "      <td>100,000+</td>\n",
              "      <td>Free</td>\n",
              "      <td>0</td>\n",
              "      <td>Everyone</td>\n",
              "      <td>Art &amp; Design;Creativity</td>\n",
              "      <td>June 20, 2018</td>\n",
              "      <td>1.1</td>\n",
              "      <td>4.4 and up</td>\n",
              "    </tr>\n",
              "  </tbody>\n",
              "</table>\n",
              "</div>"
            ],
            "text/plain": [
              "                                                 App  ...   Android Ver\n",
              "0     Photo Editor & Candy Camera & Grid & ScrapBook  ...  4.0.3 and up\n",
              "1                                Coloring book moana  ...  4.0.3 and up\n",
              "2  U Launcher Lite – FREE Live Cool Themes, Hide ...  ...  4.0.3 and up\n",
              "3                              Sketch - Draw & Paint  ...    4.2 and up\n",
              "4              Pixel Draw - Number Art Coloring Book  ...    4.4 and up\n",
              "\n",
              "[5 rows x 13 columns]"
            ]
          },
          "metadata": {
            "tags": []
          },
          "execution_count": 23
        }
      ]
    },
    {
      "cell_type": "markdown",
      "metadata": {
        "id": "dGLjopTr3biE"
      },
      "source": [
        "When plotting graph for Category against Type, found that there was a type `0`. However, only `Free` and `Paid` were expected. Hence, cleaned that entry using Pandas."
      ]
    },
    {
      "cell_type": "code",
      "metadata": {
        "id": "ETN4MrfkA8mh"
      },
      "source": [
        "fix_this_row = df.loc[df['Type'] == \"0\"]\n",
        "column_names = df.columns.tolist()"
      ],
      "execution_count": 54,
      "outputs": []
    },
    {
      "cell_type": "code",
      "metadata": {
        "id": "DKKwj64Z09yq",
        "outputId": "ead004bd-f92d-4649-adb5-c432bcfe6d73",
        "colab": {
          "base_uri": "https://localhost:8080/",
          "height": 34
        }
      },
      "source": [
        "list_to_fix = fix_this_row.values.tolist()\n",
        "list_to_fix[0].insert(1, \"Not Found\")\n",
        "list_to_fix[0].pop(-1)"
      ],
      "execution_count": 67,
      "outputs": [
        {
          "output_type": "execute_result",
          "data": {
            "text/plain": [
              "nan"
            ]
          },
          "metadata": {
            "tags": []
          },
          "execution_count": 67
        }
      ]
    },
    {
      "cell_type": "code",
      "metadata": {
        "id": "Cp6dqh2B1iWG"
      },
      "source": [
        "df.loc[10472] = list_to_fix[0]"
      ],
      "execution_count": 74,
      "outputs": []
    },
    {
      "cell_type": "code",
      "metadata": {
        "id": "38JdkrtN298y",
        "outputId": "2d648059-6e67-422f-bf00-11280c5e902c",
        "colab": {
          "base_uri": "https://localhost:8080/",
          "height": 252
        }
      },
      "source": [
        "df.loc[10472]"
      ],
      "execution_count": 76,
      "outputs": [
        {
          "output_type": "execute_result",
          "data": {
            "text/plain": [
              "App               Life Made WI-Fi Touchscreen Photo Frame\n",
              "Category                                        Not Found\n",
              "Rating                                                1.9\n",
              "Reviews                                                19\n",
              "Size                                                 3.0M\n",
              "Installs                                           1,000+\n",
              "Type                                                 Free\n",
              "Price                                                   0\n",
              "Content Rating                                   Everyone\n",
              "Genres                                                NaN\n",
              "Last Updated                            February 11, 2018\n",
              "Current Ver                                        1.0.19\n",
              "Android Ver                                    4.0 and up\n",
              "Name: 10472, dtype: object"
            ]
          },
          "metadata": {
            "tags": []
          },
          "execution_count": 76
        }
      ]
    },
    {
      "cell_type": "code",
      "metadata": {
        "id": "PDa3JzczA8mj",
        "outputId": "0b5e699d-b026-46fe-ca0f-27bb1c98f4ed",
        "colab": {
          "base_uri": "https://localhost:8080/",
          "height": 84
        }
      },
      "source": [
        "df.Rating.unique()"
      ],
      "execution_count": 82,
      "outputs": [
        {
          "output_type": "execute_result",
          "data": {
            "text/plain": [
              "array([4.1, 3.9, 4.7, 4.5, 4.3, 4.4, 3.8, 4.2, 4.6, 3.2, 4.0, nan, 4.8,\n",
              "       4.9, 3.6, 3.7, 3.3, 3.4, 3.5, 3.1, 5.0, 2.6, 3.0, 1.9, 2.5, 2.8,\n",
              "       2.7, 1.0, 2.9, 2.3, 2.2, 1.7, 2.0, 1.8, 2.4, 1.6, 2.1, 1.4, 1.5,\n",
              "       1.2, '1.9'], dtype=object)"
            ]
          },
          "metadata": {
            "tags": []
          },
          "execution_count": 82
        }
      ]
    },
    {
      "cell_type": "code",
      "metadata": {
        "id": "-wCMsdsE4Apm",
        "outputId": "c5f83a7c-0871-47a1-fd29-f2f8c580fe43",
        "colab": {
          "base_uri": "https://localhost:8080/",
          "height": 486
        }
      },
      "source": [
        "df.loc[df.Rating.isnull()]"
      ],
      "execution_count": 91,
      "outputs": [
        {
          "output_type": "execute_result",
          "data": {
            "text/html": [
              "<div>\n",
              "<style scoped>\n",
              "    .dataframe tbody tr th:only-of-type {\n",
              "        vertical-align: middle;\n",
              "    }\n",
              "\n",
              "    .dataframe tbody tr th {\n",
              "        vertical-align: top;\n",
              "    }\n",
              "\n",
              "    .dataframe thead th {\n",
              "        text-align: right;\n",
              "    }\n",
              "</style>\n",
              "<table border=\"1\" class=\"dataframe\">\n",
              "  <thead>\n",
              "    <tr style=\"text-align: right;\">\n",
              "      <th></th>\n",
              "      <th>App</th>\n",
              "      <th>Category</th>\n",
              "      <th>Rating</th>\n",
              "      <th>Reviews</th>\n",
              "      <th>Size</th>\n",
              "      <th>Installs</th>\n",
              "      <th>Type</th>\n",
              "      <th>Price</th>\n",
              "      <th>Content Rating</th>\n",
              "      <th>Genres</th>\n",
              "      <th>Last Updated</th>\n",
              "      <th>Current Ver</th>\n",
              "      <th>Android Ver</th>\n",
              "    </tr>\n",
              "  </thead>\n",
              "  <tbody>\n",
              "    <tr>\n",
              "      <th>23</th>\n",
              "      <td>Mcqueen Coloring pages</td>\n",
              "      <td>ART_AND_DESIGN</td>\n",
              "      <td>NaN</td>\n",
              "      <td>61</td>\n",
              "      <td>7.0M</td>\n",
              "      <td>100,000+</td>\n",
              "      <td>Free</td>\n",
              "      <td>0</td>\n",
              "      <td>Everyone</td>\n",
              "      <td>Art &amp; Design;Action &amp; Adventure</td>\n",
              "      <td>March 7, 2018</td>\n",
              "      <td>1.0.0</td>\n",
              "      <td>4.1 and up</td>\n",
              "    </tr>\n",
              "    <tr>\n",
              "      <th>113</th>\n",
              "      <td>Wrinkles and rejuvenation</td>\n",
              "      <td>BEAUTY</td>\n",
              "      <td>NaN</td>\n",
              "      <td>182</td>\n",
              "      <td>5.7M</td>\n",
              "      <td>100,000+</td>\n",
              "      <td>Free</td>\n",
              "      <td>0</td>\n",
              "      <td>Everyone 10+</td>\n",
              "      <td>Beauty</td>\n",
              "      <td>September 20, 2017</td>\n",
              "      <td>8</td>\n",
              "      <td>3.0 and up</td>\n",
              "    </tr>\n",
              "    <tr>\n",
              "      <th>123</th>\n",
              "      <td>Manicure - nail design</td>\n",
              "      <td>BEAUTY</td>\n",
              "      <td>NaN</td>\n",
              "      <td>119</td>\n",
              "      <td>3.7M</td>\n",
              "      <td>50,000+</td>\n",
              "      <td>Free</td>\n",
              "      <td>0</td>\n",
              "      <td>Everyone</td>\n",
              "      <td>Beauty</td>\n",
              "      <td>July 23, 2018</td>\n",
              "      <td>1.3</td>\n",
              "      <td>4.1 and up</td>\n",
              "    </tr>\n",
              "    <tr>\n",
              "      <th>126</th>\n",
              "      <td>Skin Care and Natural Beauty</td>\n",
              "      <td>BEAUTY</td>\n",
              "      <td>NaN</td>\n",
              "      <td>654</td>\n",
              "      <td>7.4M</td>\n",
              "      <td>100,000+</td>\n",
              "      <td>Free</td>\n",
              "      <td>0</td>\n",
              "      <td>Teen</td>\n",
              "      <td>Beauty</td>\n",
              "      <td>July 17, 2018</td>\n",
              "      <td>1.15</td>\n",
              "      <td>4.1 and up</td>\n",
              "    </tr>\n",
              "    <tr>\n",
              "      <th>129</th>\n",
              "      <td>Secrets of beauty, youth and health</td>\n",
              "      <td>BEAUTY</td>\n",
              "      <td>NaN</td>\n",
              "      <td>77</td>\n",
              "      <td>2.9M</td>\n",
              "      <td>10,000+</td>\n",
              "      <td>Free</td>\n",
              "      <td>0</td>\n",
              "      <td>Mature 17+</td>\n",
              "      <td>Beauty</td>\n",
              "      <td>August 8, 2017</td>\n",
              "      <td>2</td>\n",
              "      <td>2.3 and up</td>\n",
              "    </tr>\n",
              "    <tr>\n",
              "      <th>...</th>\n",
              "      <td>...</td>\n",
              "      <td>...</td>\n",
              "      <td>...</td>\n",
              "      <td>...</td>\n",
              "      <td>...</td>\n",
              "      <td>...</td>\n",
              "      <td>...</td>\n",
              "      <td>...</td>\n",
              "      <td>...</td>\n",
              "      <td>...</td>\n",
              "      <td>...</td>\n",
              "      <td>...</td>\n",
              "      <td>...</td>\n",
              "    </tr>\n",
              "    <tr>\n",
              "      <th>10824</th>\n",
              "      <td>Cardio-FR</td>\n",
              "      <td>MEDICAL</td>\n",
              "      <td>NaN</td>\n",
              "      <td>67</td>\n",
              "      <td>82M</td>\n",
              "      <td>10,000+</td>\n",
              "      <td>Free</td>\n",
              "      <td>0</td>\n",
              "      <td>Everyone</td>\n",
              "      <td>Medical</td>\n",
              "      <td>July 31, 2018</td>\n",
              "      <td>2.2.2</td>\n",
              "      <td>4.4 and up</td>\n",
              "    </tr>\n",
              "    <tr>\n",
              "      <th>10825</th>\n",
              "      <td>Naruto &amp; Boruto FR</td>\n",
              "      <td>SOCIAL</td>\n",
              "      <td>NaN</td>\n",
              "      <td>7</td>\n",
              "      <td>7.7M</td>\n",
              "      <td>100+</td>\n",
              "      <td>Free</td>\n",
              "      <td>0</td>\n",
              "      <td>Teen</td>\n",
              "      <td>Social</td>\n",
              "      <td>February 2, 2018</td>\n",
              "      <td>1</td>\n",
              "      <td>4.0 and up</td>\n",
              "    </tr>\n",
              "    <tr>\n",
              "      <th>10831</th>\n",
              "      <td>payermonstationnement.fr</td>\n",
              "      <td>MAPS_AND_NAVIGATION</td>\n",
              "      <td>NaN</td>\n",
              "      <td>38</td>\n",
              "      <td>9.8M</td>\n",
              "      <td>5,000+</td>\n",
              "      <td>Free</td>\n",
              "      <td>0</td>\n",
              "      <td>Everyone</td>\n",
              "      <td>Maps &amp; Navigation</td>\n",
              "      <td>June 13, 2018</td>\n",
              "      <td>2.0.148.0</td>\n",
              "      <td>4.0 and up</td>\n",
              "    </tr>\n",
              "    <tr>\n",
              "      <th>10835</th>\n",
              "      <td>FR Forms</td>\n",
              "      <td>BUSINESS</td>\n",
              "      <td>NaN</td>\n",
              "      <td>0</td>\n",
              "      <td>9.6M</td>\n",
              "      <td>10+</td>\n",
              "      <td>Free</td>\n",
              "      <td>0</td>\n",
              "      <td>Everyone</td>\n",
              "      <td>Business</td>\n",
              "      <td>September 29, 2016</td>\n",
              "      <td>1.1.5</td>\n",
              "      <td>4.0 and up</td>\n",
              "    </tr>\n",
              "    <tr>\n",
              "      <th>10838</th>\n",
              "      <td>Parkinson Exercices FR</td>\n",
              "      <td>MEDICAL</td>\n",
              "      <td>NaN</td>\n",
              "      <td>3</td>\n",
              "      <td>9.5M</td>\n",
              "      <td>1,000+</td>\n",
              "      <td>Free</td>\n",
              "      <td>0</td>\n",
              "      <td>Everyone</td>\n",
              "      <td>Medical</td>\n",
              "      <td>January 20, 2017</td>\n",
              "      <td>1</td>\n",
              "      <td>2.2 and up</td>\n",
              "    </tr>\n",
              "  </tbody>\n",
              "</table>\n",
              "<p>1474 rows × 13 columns</p>\n",
              "</div>"
            ],
            "text/plain": [
              "                                       App  ... Android Ver\n",
              "23                  Mcqueen Coloring pages  ...  4.1 and up\n",
              "113              Wrinkles and rejuvenation  ...  3.0 and up\n",
              "123                 Manicure - nail design  ...  4.1 and up\n",
              "126           Skin Care and Natural Beauty  ...  4.1 and up\n",
              "129    Secrets of beauty, youth and health  ...  2.3 and up\n",
              "...                                    ...  ...         ...\n",
              "10824                            Cardio-FR  ...  4.4 and up\n",
              "10825                   Naruto & Boruto FR  ...  4.0 and up\n",
              "10831             payermonstationnement.fr  ...  4.0 and up\n",
              "10835                             FR Forms  ...  4.0 and up\n",
              "10838               Parkinson Exercices FR  ...  2.2 and up\n",
              "\n",
              "[1474 rows x 13 columns]"
            ]
          },
          "metadata": {
            "tags": []
          },
          "execution_count": 91
        }
      ]
    },
    {
      "cell_type": "code",
      "metadata": {
        "id": "pvjXukgrA8ml",
        "outputId": "ea68e6c0-086a-4380-81d6-73a145f151a8",
        "colab": {
          "base_uri": "https://localhost:8080/",
          "height": 218
        }
      },
      "source": [
        "df.Rating.fillna(0)"
      ],
      "execution_count": 93,
      "outputs": [
        {
          "output_type": "execute_result",
          "data": {
            "text/plain": [
              "0        4.1\n",
              "1        3.9\n",
              "2        4.7\n",
              "3        4.5\n",
              "4        4.3\n",
              "        ... \n",
              "10836    4.5\n",
              "10837      5\n",
              "10838      0\n",
              "10839    4.5\n",
              "10840    4.5\n",
              "Name: Rating, Length: 10841, dtype: object"
            ]
          },
          "metadata": {
            "tags": []
          },
          "execution_count": 93
        }
      ]
    },
    {
      "cell_type": "code",
      "metadata": {
        "id": "pAvWvu_b0ctO",
        "outputId": "ea0867ae-6cf8-4c85-ebb8-657f380216a8",
        "colab": {
          "base_uri": "https://localhost:8080/",
          "height": 486
        }
      },
      "source": [
        "df.loc[df.Rating.isnull()]"
      ],
      "execution_count": 94,
      "outputs": [
        {
          "output_type": "execute_result",
          "data": {
            "text/html": [
              "<div>\n",
              "<style scoped>\n",
              "    .dataframe tbody tr th:only-of-type {\n",
              "        vertical-align: middle;\n",
              "    }\n",
              "\n",
              "    .dataframe tbody tr th {\n",
              "        vertical-align: top;\n",
              "    }\n",
              "\n",
              "    .dataframe thead th {\n",
              "        text-align: right;\n",
              "    }\n",
              "</style>\n",
              "<table border=\"1\" class=\"dataframe\">\n",
              "  <thead>\n",
              "    <tr style=\"text-align: right;\">\n",
              "      <th></th>\n",
              "      <th>App</th>\n",
              "      <th>Category</th>\n",
              "      <th>Rating</th>\n",
              "      <th>Reviews</th>\n",
              "      <th>Size</th>\n",
              "      <th>Installs</th>\n",
              "      <th>Type</th>\n",
              "      <th>Price</th>\n",
              "      <th>Content Rating</th>\n",
              "      <th>Genres</th>\n",
              "      <th>Last Updated</th>\n",
              "      <th>Current Ver</th>\n",
              "      <th>Android Ver</th>\n",
              "    </tr>\n",
              "  </thead>\n",
              "  <tbody>\n",
              "    <tr>\n",
              "      <th>23</th>\n",
              "      <td>Mcqueen Coloring pages</td>\n",
              "      <td>ART_AND_DESIGN</td>\n",
              "      <td>NaN</td>\n",
              "      <td>61</td>\n",
              "      <td>7.0M</td>\n",
              "      <td>100,000+</td>\n",
              "      <td>Free</td>\n",
              "      <td>0</td>\n",
              "      <td>Everyone</td>\n",
              "      <td>Art &amp; Design;Action &amp; Adventure</td>\n",
              "      <td>March 7, 2018</td>\n",
              "      <td>1.0.0</td>\n",
              "      <td>4.1 and up</td>\n",
              "    </tr>\n",
              "    <tr>\n",
              "      <th>113</th>\n",
              "      <td>Wrinkles and rejuvenation</td>\n",
              "      <td>BEAUTY</td>\n",
              "      <td>NaN</td>\n",
              "      <td>182</td>\n",
              "      <td>5.7M</td>\n",
              "      <td>100,000+</td>\n",
              "      <td>Free</td>\n",
              "      <td>0</td>\n",
              "      <td>Everyone 10+</td>\n",
              "      <td>Beauty</td>\n",
              "      <td>September 20, 2017</td>\n",
              "      <td>8</td>\n",
              "      <td>3.0 and up</td>\n",
              "    </tr>\n",
              "    <tr>\n",
              "      <th>123</th>\n",
              "      <td>Manicure - nail design</td>\n",
              "      <td>BEAUTY</td>\n",
              "      <td>NaN</td>\n",
              "      <td>119</td>\n",
              "      <td>3.7M</td>\n",
              "      <td>50,000+</td>\n",
              "      <td>Free</td>\n",
              "      <td>0</td>\n",
              "      <td>Everyone</td>\n",
              "      <td>Beauty</td>\n",
              "      <td>July 23, 2018</td>\n",
              "      <td>1.3</td>\n",
              "      <td>4.1 and up</td>\n",
              "    </tr>\n",
              "    <tr>\n",
              "      <th>126</th>\n",
              "      <td>Skin Care and Natural Beauty</td>\n",
              "      <td>BEAUTY</td>\n",
              "      <td>NaN</td>\n",
              "      <td>654</td>\n",
              "      <td>7.4M</td>\n",
              "      <td>100,000+</td>\n",
              "      <td>Free</td>\n",
              "      <td>0</td>\n",
              "      <td>Teen</td>\n",
              "      <td>Beauty</td>\n",
              "      <td>July 17, 2018</td>\n",
              "      <td>1.15</td>\n",
              "      <td>4.1 and up</td>\n",
              "    </tr>\n",
              "    <tr>\n",
              "      <th>129</th>\n",
              "      <td>Secrets of beauty, youth and health</td>\n",
              "      <td>BEAUTY</td>\n",
              "      <td>NaN</td>\n",
              "      <td>77</td>\n",
              "      <td>2.9M</td>\n",
              "      <td>10,000+</td>\n",
              "      <td>Free</td>\n",
              "      <td>0</td>\n",
              "      <td>Mature 17+</td>\n",
              "      <td>Beauty</td>\n",
              "      <td>August 8, 2017</td>\n",
              "      <td>2</td>\n",
              "      <td>2.3 and up</td>\n",
              "    </tr>\n",
              "    <tr>\n",
              "      <th>...</th>\n",
              "      <td>...</td>\n",
              "      <td>...</td>\n",
              "      <td>...</td>\n",
              "      <td>...</td>\n",
              "      <td>...</td>\n",
              "      <td>...</td>\n",
              "      <td>...</td>\n",
              "      <td>...</td>\n",
              "      <td>...</td>\n",
              "      <td>...</td>\n",
              "      <td>...</td>\n",
              "      <td>...</td>\n",
              "      <td>...</td>\n",
              "    </tr>\n",
              "    <tr>\n",
              "      <th>10824</th>\n",
              "      <td>Cardio-FR</td>\n",
              "      <td>MEDICAL</td>\n",
              "      <td>NaN</td>\n",
              "      <td>67</td>\n",
              "      <td>82M</td>\n",
              "      <td>10,000+</td>\n",
              "      <td>Free</td>\n",
              "      <td>0</td>\n",
              "      <td>Everyone</td>\n",
              "      <td>Medical</td>\n",
              "      <td>July 31, 2018</td>\n",
              "      <td>2.2.2</td>\n",
              "      <td>4.4 and up</td>\n",
              "    </tr>\n",
              "    <tr>\n",
              "      <th>10825</th>\n",
              "      <td>Naruto &amp; Boruto FR</td>\n",
              "      <td>SOCIAL</td>\n",
              "      <td>NaN</td>\n",
              "      <td>7</td>\n",
              "      <td>7.7M</td>\n",
              "      <td>100+</td>\n",
              "      <td>Free</td>\n",
              "      <td>0</td>\n",
              "      <td>Teen</td>\n",
              "      <td>Social</td>\n",
              "      <td>February 2, 2018</td>\n",
              "      <td>1</td>\n",
              "      <td>4.0 and up</td>\n",
              "    </tr>\n",
              "    <tr>\n",
              "      <th>10831</th>\n",
              "      <td>payermonstationnement.fr</td>\n",
              "      <td>MAPS_AND_NAVIGATION</td>\n",
              "      <td>NaN</td>\n",
              "      <td>38</td>\n",
              "      <td>9.8M</td>\n",
              "      <td>5,000+</td>\n",
              "      <td>Free</td>\n",
              "      <td>0</td>\n",
              "      <td>Everyone</td>\n",
              "      <td>Maps &amp; Navigation</td>\n",
              "      <td>June 13, 2018</td>\n",
              "      <td>2.0.148.0</td>\n",
              "      <td>4.0 and up</td>\n",
              "    </tr>\n",
              "    <tr>\n",
              "      <th>10835</th>\n",
              "      <td>FR Forms</td>\n",
              "      <td>BUSINESS</td>\n",
              "      <td>NaN</td>\n",
              "      <td>0</td>\n",
              "      <td>9.6M</td>\n",
              "      <td>10+</td>\n",
              "      <td>Free</td>\n",
              "      <td>0</td>\n",
              "      <td>Everyone</td>\n",
              "      <td>Business</td>\n",
              "      <td>September 29, 2016</td>\n",
              "      <td>1.1.5</td>\n",
              "      <td>4.0 and up</td>\n",
              "    </tr>\n",
              "    <tr>\n",
              "      <th>10838</th>\n",
              "      <td>Parkinson Exercices FR</td>\n",
              "      <td>MEDICAL</td>\n",
              "      <td>NaN</td>\n",
              "      <td>3</td>\n",
              "      <td>9.5M</td>\n",
              "      <td>1,000+</td>\n",
              "      <td>Free</td>\n",
              "      <td>0</td>\n",
              "      <td>Everyone</td>\n",
              "      <td>Medical</td>\n",
              "      <td>January 20, 2017</td>\n",
              "      <td>1</td>\n",
              "      <td>2.2 and up</td>\n",
              "    </tr>\n",
              "  </tbody>\n",
              "</table>\n",
              "<p>1474 rows × 13 columns</p>\n",
              "</div>"
            ],
            "text/plain": [
              "                                       App  ... Android Ver\n",
              "23                  Mcqueen Coloring pages  ...  4.1 and up\n",
              "113              Wrinkles and rejuvenation  ...  3.0 and up\n",
              "123                 Manicure - nail design  ...  4.1 and up\n",
              "126           Skin Care and Natural Beauty  ...  4.1 and up\n",
              "129    Secrets of beauty, youth and health  ...  2.3 and up\n",
              "...                                    ...  ...         ...\n",
              "10824                            Cardio-FR  ...  4.4 and up\n",
              "10825                   Naruto & Boruto FR  ...  4.0 and up\n",
              "10831             payermonstationnement.fr  ...  4.0 and up\n",
              "10835                             FR Forms  ...  4.0 and up\n",
              "10838               Parkinson Exercices FR  ...  2.2 and up\n",
              "\n",
              "[1474 rows x 13 columns]"
            ]
          },
          "metadata": {
            "tags": []
          },
          "execution_count": 94
        }
      ]
    },
    {
      "cell_type": "code",
      "metadata": {
        "id": "cswXfbOBA8mo"
      },
      "source": [
        "df.Rating = df.Rating.fillna(0)"
      ],
      "execution_count": 96,
      "outputs": []
    },
    {
      "cell_type": "code",
      "metadata": {
        "id": "ijtAB0U35wQM",
        "outputId": "0afd7781-d0ac-44bb-e183-7c10e7a6aa6f",
        "colab": {
          "base_uri": "https://localhost:8080/",
          "height": 218
        }
      },
      "source": [
        "df.Installs = df['Installs'].replace({'\\+': ''}, regex=True)\n",
        "df.Installs = df['Installs'].replace({',': ''}, regex=True)\n",
        "\n",
        "df.Installs.astype(int)"
      ],
      "execution_count": 115,
      "outputs": [
        {
          "output_type": "execute_result",
          "data": {
            "text/plain": [
              "0           10000\n",
              "1          500000\n",
              "2         5000000\n",
              "3        50000000\n",
              "4          100000\n",
              "           ...   \n",
              "10836        5000\n",
              "10837         100\n",
              "10838        1000\n",
              "10839        1000\n",
              "10840    10000000\n",
              "Name: Installs, Length: 10841, dtype: int64"
            ]
          },
          "metadata": {
            "tags": []
          },
          "execution_count": 115
        }
      ]
    },
    {
      "cell_type": "code",
      "metadata": {
        "id": "KxOfbWlx6s0c",
        "outputId": "e0627e5c-be39-4a02-f85c-c43496b2a668",
        "colab": {
          "base_uri": "https://localhost:8080/",
          "height": 252
        }
      },
      "source": [
        "df.Price.unique()"
      ],
      "execution_count": 116,
      "outputs": [
        {
          "output_type": "execute_result",
          "data": {
            "text/plain": [
              "array(['0', '$4.99', '$3.99', '$6.99', '$1.49', '$2.99', '$7.99', '$5.99',\n",
              "       '$3.49', '$1.99', '$9.99', '$7.49', '$0.99', '$9.00', '$5.49',\n",
              "       '$10.00', '$24.99', '$11.99', '$79.99', '$16.99', '$14.99',\n",
              "       '$1.00', '$29.99', '$12.99', '$2.49', '$10.99', '$1.50', '$19.99',\n",
              "       '$15.99', '$33.99', '$74.99', '$39.99', '$3.95', '$4.49', '$1.70',\n",
              "       '$8.99', '$2.00', '$3.88', '$25.99', '$399.99', '$17.99',\n",
              "       '$400.00', '$3.02', '$1.76', '$4.84', '$4.77', '$1.61', '$2.50',\n",
              "       '$1.59', '$6.49', '$1.29', '$5.00', '$13.99', '$299.99', '$379.99',\n",
              "       '$37.99', '$18.99', '$389.99', '$19.90', '$8.49', '$1.75',\n",
              "       '$14.00', '$4.85', '$46.99', '$109.99', '$154.99', '$3.08',\n",
              "       '$2.59', '$4.80', '$1.96', '$19.40', '$3.90', '$4.59', '$15.46',\n",
              "       '$3.04', '$4.29', '$2.60', '$3.28', '$4.60', '$28.99', '$2.95',\n",
              "       '$2.90', '$1.97', '$200.00', '$89.99', '$2.56', '$30.99', '$3.61',\n",
              "       '$394.99', '$1.26', '$1.20', '$1.04'], dtype=object)"
            ]
          },
          "metadata": {
            "tags": []
          },
          "execution_count": 116
        }
      ]
    },
    {
      "cell_type": "code",
      "metadata": {
        "id": "DN3ZYaRUA8mr"
      },
      "source": [
        "import jovian"
      ],
      "execution_count": 117,
      "outputs": []
    },
    {
      "cell_type": "code",
      "metadata": {
        "id": "dsivCpqYA8ms",
        "outputId": "2c8044b9-50f4-420f-a546-d6734bd1c88c",
        "colab": {
          "base_uri": "https://localhost:8080/",
          "height": 86
        }
      },
      "source": [
        "jovian.commit(project=project_name)"
      ],
      "execution_count": 118,
      "outputs": [
        {
          "output_type": "stream",
          "text": [
            "[jovian] Detected Colab notebook...\u001b[0m\n",
            "[jovian] Uploading colab notebook to Jovian...\u001b[0m\n",
            "[jovian] Committed successfully! https://jovian.ml/ayushxx7/analyzing-the-android-app-store\u001b[0m\n"
          ],
          "name": "stdout"
        },
        {
          "output_type": "execute_result",
          "data": {
            "application/vnd.google.colaboratory.intrinsic+json": {
              "type": "string"
            },
            "text/plain": [
              "'https://jovian.ml/ayushxx7/analyzing-the-android-app-store'"
            ]
          },
          "metadata": {
            "tags": []
          },
          "execution_count": 118
        }
      ]
    },
    {
      "cell_type": "markdown",
      "metadata": {
        "id": "zazXa7EYA8mu"
      },
      "source": [
        "## Exploratory Analysis and Visualization"
      ]
    },
    {
      "cell_type": "code",
      "metadata": {
        "id": "xKRuMqHVA8mv",
        "outputId": "840b8cfc-6f1d-49b5-eef8-34afdbbb377d",
        "colab": {
          "base_uri": "https://localhost:8080/",
          "height": 297
        }
      },
      "source": [
        "import seaborn as sns\n",
        "sns.countplot(x=\"Category\", hue=\"Type\", data=df)"
      ],
      "execution_count": 78,
      "outputs": [
        {
          "output_type": "execute_result",
          "data": {
            "text/plain": [
              "<matplotlib.axes._subplots.AxesSubplot at 0x7f4121f972b0>"
            ]
          },
          "metadata": {
            "tags": []
          },
          "execution_count": 78
        },
        {
          "output_type": "display_data",
          "data": {
            "image/png": "[encoded data removed]",
            "text/plain": [
              "<Figure size 432x288 with 1 Axes>"
            ]
          },
          "metadata": {
            "tags": [],
            "needs_background": "light"
          }
        }
      ]
    },
    {
      "cell_type": "code",
      "metadata": {
        "id": "pNU1yReSA8mx",
        "outputId": "5fa4a6d2-196d-40cf-bea3-2fbe9f600c49",
        "colab": {
          "base_uri": "https://localhost:8080/",
          "height": 168
        }
      },
      "source": [
        "df.Category.unique()"
      ],
      "execution_count": 79,
      "outputs": [
        {
          "output_type": "execute_result",
          "data": {
            "text/plain": [
              "array(['ART_AND_DESIGN', 'AUTO_AND_VEHICLES', 'BEAUTY',\n",
              "       'BOOKS_AND_REFERENCE', 'BUSINESS', 'COMICS', 'COMMUNICATION',\n",
              "       'DATING', 'EDUCATION', 'ENTERTAINMENT', 'EVENTS', 'FINANCE',\n",
              "       'FOOD_AND_DRINK', 'HEALTH_AND_FITNESS', 'HOUSE_AND_HOME',\n",
              "       'LIBRARIES_AND_DEMO', 'LIFESTYLE', 'GAME', 'FAMILY', 'MEDICAL',\n",
              "       'SOCIAL', 'SHOPPING', 'PHOTOGRAPHY', 'SPORTS', 'TRAVEL_AND_LOCAL',\n",
              "       'TOOLS', 'PERSONALIZATION', 'PRODUCTIVITY', 'PARENTING', 'WEATHER',\n",
              "       'VIDEO_PLAYERS', 'NEWS_AND_MAGAZINES', 'MAPS_AND_NAVIGATION',\n",
              "       'Not Found'], dtype=object)"
            ]
          },
          "metadata": {
            "tags": []
          },
          "execution_count": 79
        }
      ]
    },
    {
      "cell_type": "code",
      "metadata": {
        "id": "bc6xYWVQA8m1"
      },
      "source": [
        ""
      ],
      "execution_count": null,
      "outputs": []
    },
    {
      "cell_type": "code",
      "metadata": {
        "id": "r-GmseGLA8m4"
      },
      "source": [
        ""
      ],
      "execution_count": null,
      "outputs": []
    },
    {
      "cell_type": "code",
      "metadata": {
        "id": "A31SHQQpA8m7"
      },
      "source": [
        ""
      ],
      "execution_count": null,
      "outputs": []
    },
    {
      "cell_type": "code",
      "metadata": {
        "id": "XwIGhAuXA8m-"
      },
      "source": [
        "import jovian"
      ],
      "execution_count": null,
      "outputs": []
    },
    {
      "cell_type": "code",
      "metadata": {
        "id": "AdgaSo8qA8nA",
        "outputId": "4fdee486-a1c2-4778-fa2d-41df04dfe61c"
      },
      "source": [
        "jovian.commit()"
      ],
      "execution_count": null,
      "outputs": [
        {
          "output_type": "display_data",
          "data": {
            "application/javascript": [
              "window.require && require([\"base/js/namespace\"],function(Jupyter){Jupyter.notebook.save_checkpoint()})"
            ],
            "text/plain": [
              "<IPython.core.display.Javascript object>"
            ]
          },
          "metadata": {
            "tags": []
          }
        },
        {
          "output_type": "stream",
          "text": [
            "[jovian] Attempting to save notebook..\u001b[0m\n",
            "[jovian] Updating notebook \"aakashns/zerotopandas-course-project-starter\" on https://jovian.ml/\u001b[0m\n",
            "[jovian] Uploading notebook..\u001b[0m\n",
            "[jovian] Capturing environment..\u001b[0m\n",
            "[jovian] Committed successfully! https://jovian.ml/aakashns/zerotopandas-course-project-starter\u001b[0m\n"
          ],
          "name": "stdout"
        },
        {
          "output_type": "execute_result",
          "data": {
            "text/plain": [
              "'https://jovian.ml/aakashns/zerotopandas-course-project-starter'"
            ]
          },
          "metadata": {
            "tags": []
          },
          "execution_count": 8
        }
      ]
    },
    {
      "cell_type": "markdown",
      "metadata": {
        "id": "-EsVmdqGA8nD"
      },
      "source": [
        "## Asking and Answering Questions\n",
        "\n",
        "TODO"
      ]
    },
    {
      "cell_type": "code",
      "metadata": {
        "id": "DXRQdcGPA8nD"
      },
      "source": [
        ""
      ],
      "execution_count": null,
      "outputs": []
    },
    {
      "cell_type": "code",
      "metadata": {
        "id": "Q8j07NNyA8nF"
      },
      "source": [
        ""
      ],
      "execution_count": null,
      "outputs": []
    },
    {
      "cell_type": "code",
      "metadata": {
        "id": "OxTEuSt_A8nG"
      },
      "source": [
        ""
      ],
      "execution_count": null,
      "outputs": []
    },
    {
      "cell_type": "code",
      "metadata": {
        "id": "WDpYXYBOA8nJ"
      },
      "source": [
        ""
      ],
      "execution_count": null,
      "outputs": []
    },
    {
      "cell_type": "code",
      "metadata": {
        "id": "qGrRU5s8A8nL"
      },
      "source": [
        ""
      ],
      "execution_count": null,
      "outputs": []
    },
    {
      "cell_type": "code",
      "metadata": {
        "id": "MARPG-meA8nN"
      },
      "source": [
        ""
      ],
      "execution_count": null,
      "outputs": []
    },
    {
      "cell_type": "code",
      "metadata": {
        "id": "6hjyn1yoA8nP"
      },
      "source": [
        ""
      ],
      "execution_count": null,
      "outputs": []
    },
    {
      "cell_type": "code",
      "metadata": {
        "id": "HR6gxxtLA8nQ"
      },
      "source": [
        "import jovian"
      ],
      "execution_count": null,
      "outputs": []
    },
    {
      "cell_type": "code",
      "metadata": {
        "id": "dIVMsO5DA8nT",
        "outputId": "e0f537be-3801-4fbe-8818-7d0a14102016"
      },
      "source": [
        "jovian.commit()"
      ],
      "execution_count": null,
      "outputs": [
        {
          "output_type": "display_data",
          "data": {
            "application/javascript": [
              "window.require && require([\"base/js/namespace\"],function(Jupyter){Jupyter.notebook.save_checkpoint()})"
            ],
            "text/plain": [
              "<IPython.core.display.Javascript object>"
            ]
          },
          "metadata": {
            "tags": []
          }
        },
        {
          "output_type": "stream",
          "text": [
            "[jovian] Attempting to save notebook..\u001b[0m\n",
            "[jovian] Updating notebook \"aakashns/zerotopandas-course-project-starter\" on https://jovian.ml/\u001b[0m\n",
            "[jovian] Uploading notebook..\u001b[0m\n",
            "[jovian] Capturing environment..\u001b[0m\n",
            "[jovian] Committed successfully! https://jovian.ml/aakashns/zerotopandas-course-project-starter\u001b[0m\n"
          ],
          "name": "stdout"
        },
        {
          "output_type": "execute_result",
          "data": {
            "text/plain": [
              "'https://jovian.ml/aakashns/zerotopandas-course-project-starter'"
            ]
          },
          "metadata": {
            "tags": []
          },
          "execution_count": 10
        }
      ]
    },
    {
      "cell_type": "markdown",
      "metadata": {
        "id": "CHufcoKXA8nV"
      },
      "source": [
        "## Inferences and Conclusion\n",
        "\n",
        "TODO"
      ]
    },
    {
      "cell_type": "code",
      "metadata": {
        "id": "5Up9MQcXA8nV"
      },
      "source": [
        ""
      ],
      "execution_count": null,
      "outputs": []
    },
    {
      "cell_type": "code",
      "metadata": {
        "id": "W5VMFwBbA8nX"
      },
      "source": [
        ""
      ],
      "execution_count": null,
      "outputs": []
    },
    {
      "cell_type": "code",
      "metadata": {
        "id": "TQrkNkatA8nZ"
      },
      "source": [
        ""
      ],
      "execution_count": null,
      "outputs": []
    },
    {
      "cell_type": "code",
      "metadata": {
        "id": "qeyXy_4_A8nb"
      },
      "source": [
        "import jovian"
      ],
      "execution_count": null,
      "outputs": []
    },
    {
      "cell_type": "code",
      "metadata": {
        "id": "4vAPDWe0A8nc",
        "outputId": "bc3edf5b-81ee-465c-864a-8275e3f5971e"
      },
      "source": [
        "jovian.commit()"
      ],
      "execution_count": null,
      "outputs": [
        {
          "output_type": "display_data",
          "data": {
            "application/javascript": [
              "window.require && require([\"base/js/namespace\"],function(Jupyter){Jupyter.notebook.save_checkpoint()})"
            ],
            "text/plain": [
              "<IPython.core.display.Javascript object>"
            ]
          },
          "metadata": {
            "tags": []
          }
        },
        {
          "output_type": "stream",
          "text": [
            "[jovian] Attempting to save notebook..\u001b[0m\n",
            "[jovian] Updating notebook \"aakashns/zerotopandas-course-project-starter\" on https://jovian.ml/\u001b[0m\n",
            "[jovian] Uploading notebook..\u001b[0m\n",
            "[jovian] Capturing environment..\u001b[0m\n",
            "[jovian] Committed successfully! https://jovian.ml/aakashns/zerotopandas-course-project-starter\u001b[0m\n"
          ],
          "name": "stdout"
        },
        {
          "output_type": "execute_result",
          "data": {
            "text/plain": [
              "'https://jovian.ml/aakashns/zerotopandas-course-project-starter'"
            ]
          },
          "metadata": {
            "tags": []
          },
          "execution_count": 12
        }
      ]
    },
    {
      "cell_type": "markdown",
      "metadata": {
        "id": "IethPCAxA8ne"
      },
      "source": [
        "## References and Future Work\n",
        "\n",
        "### StackOverflow\n",
        "\n",
        "- [Select specific rows based on column value](https://stackoverflow.com/questions/17071871/how-to-select-rows-from-a-dataframe-based-on-column-values)\n",
        "\n",
        "- [Find NaN values in column](https://stackoverflow.com/a/43831589/7048915)\n",
        "\n",
        "- [Replace part of value](https://stackoverflow.com/questions/38565849/pandas-replace-substring-in-string)"
      ]
    },
    {
      "cell_type": "markdown",
      "metadata": {
        "id": "vP4ijNCs5Wav"
      },
      "source": [
        "Other Q&A Sources\n",
        "- [How to fill NaN values in a column](https://www.kite.com/python/answers/how-to-replace-nan-values-with-zeros-in-a-column-of-a-pandas-dataframe-in-python#:~:text=Use%20pandas.,name%20from%20the%20DataFrame%20df%20.)"
      ]
    },
    {
      "cell_type": "code",
      "metadata": {
        "id": "HMdYZZEnA8ne"
      },
      "source": [
        "import jovian"
      ],
      "execution_count": null,
      "outputs": []
    },
    {
      "cell_type": "code",
      "metadata": {
        "id": "Nv8ilJf3A8nh",
        "outputId": "fd39e624-15ef-4214-8225-8fa385d638db"
      },
      "source": [
        "jovian.commit()"
      ],
      "execution_count": null,
      "outputs": [
        {
          "output_type": "display_data",
          "data": {
            "application/javascript": [
              "window.require && require([\"base/js/namespace\"],function(Jupyter){Jupyter.notebook.save_checkpoint()})"
            ],
            "text/plain": [
              "<IPython.core.display.Javascript object>"
            ]
          },
          "metadata": {
            "tags": []
          }
        },
        {
          "output_type": "stream",
          "text": [
            "[jovian] Attempting to save notebook..\u001b[0m\n"
          ],
          "name": "stdout"
        }
      ]
    },
    {
      "cell_type": "code",
      "metadata": {
        "id": "HIA44bOlA8nj"
      },
      "source": [
        ""
      ],
      "execution_count": null,
      "outputs": []
    }
  ]
}