{
  "nbformat": 4,
  "nbformat_minor": 0,
  "metadata": {
    "colab": {
      "name": "Market-Association-Grocery-Dataset.ipynb",
      "provenance": [],
      "authorship_tag": "ABX9TyN5myzYO62wd3tdps65LeGV",
      "include_colab_link": true
    },
    "kernelspec": {
      "name": "python3",
      "display_name": "Python 3"
    }
  },
  "cells": [
    {
      "cell_type": "markdown",
      "metadata": {
        "id": "view-in-github",
        "colab_type": "text"
      },
      "source": [
        "<a href=\"https://colab.research.google.com/github/ayushxx7/pandas-course-project/blob/master/Market_Association_Grocery_Dataset.ipynb\" target=\"_parent\"><img src=\"https://colab.research.google.com/assets/colab-badge.svg\" alt=\"Open In Colab\"/></a>"
      ]
    },
    {
      "cell_type": "markdown",
      "metadata": {
        "id": "uFrQDwQmWmJT"
      },
      "source": [
        "# **Grocery Data Analysis**\n",
        "### Market Association"
      ]
    },
    {
      "cell_type": "markdown",
      "metadata": {
        "id": "zHtGzG-6Ybhc"
      },
      "source": [
        "## Data Prepartion"
      ]
    },
    {
      "cell_type": "markdown",
      "metadata": {
        "id": "7bs6MfsrVTN5"
      },
      "source": [
        "#### Setup Kaggle, Download and Extract Dataset"
      ]
    },
    {
      "cell_type": "code",
      "metadata": {
        "id": "IUKy5IOxasO6",
        "collapsed": true
      },
      "source": [
        "import json\n",
        "import zipfile\n",
        "import os"
      ],
      "execution_count": 2,
      "outputs": []
    },
    {
      "cell_type": "code",
      "metadata": {
        "id": "GUJDFtM8VJj-",
        "outputId": "685a2eb4-5a99-4898-d00f-a353ba5c9be2",
        "colab": {
          "base_uri": "https://localhost:8080/"
        }
      },
      "source": [
        "!pip install kaggle\n",
        "api_token = {\"username\":\"ayushxx7\",\"key\":\"32c5490ba78a5c6e8eaa81a18380c7dd\"}\n",
        "!mkdir -p ~/.kaggle\n",
        "with open('kaggle.json', 'w') as file:\n",
        "    json.dump(api_token, file)\n",
        "!cp kaggle.json ~/.kaggle/\n",
        "!ls ~/.kaggle\n",
        "!chmod 600 /root/.kaggle/kaggle.json\n",
        "!kaggle datasets download -d heeraldedhia/groceries-dataset\n",
        "\n",
        "for file in os.listdir():\n",
        "    if '.zip' in file:\n",
        "      zip_ref = zipfile.ZipFile(file, 'r')\n",
        "      zip_ref.extractall()\n",
        "      zip_ref.close()"
      ],
      "execution_count": 3,
      "outputs": [
        {
          "output_type": "stream",
          "text": [
            "Requirement already satisfied: kaggle in /usr/local/lib/python3.6/dist-packages (1.5.9)\n",
            "Requirement already satisfied: tqdm in /usr/local/lib/python3.6/dist-packages (from kaggle) (4.41.1)\n",
            "Requirement already satisfied: requests in /usr/local/lib/python3.6/dist-packages (from kaggle) (2.23.0)\n",
            "Requirement already satisfied: certifi in /usr/local/lib/python3.6/dist-packages (from kaggle) (2020.6.20)\n",
            "Requirement already satisfied: slugify in /usr/local/lib/python3.6/dist-packages (from kaggle) (0.0.1)\n",
            "Requirement already satisfied: six>=1.10 in /usr/local/lib/python3.6/dist-packages (from kaggle) (1.15.0)\n",
            "Requirement already satisfied: python-dateutil in /usr/local/lib/python3.6/dist-packages (from kaggle) (2.8.1)\n",
            "Requirement already satisfied: urllib3 in /usr/local/lib/python3.6/dist-packages (from kaggle) (1.24.3)\n",
            "Requirement already satisfied: python-slugify in /usr/local/lib/python3.6/dist-packages (from kaggle) (4.0.1)\n",
            "Requirement already satisfied: idna<3,>=2.5 in /usr/local/lib/python3.6/dist-packages (from requests->kaggle) (2.10)\n",
            "Requirement already satisfied: chardet<4,>=3.0.2 in /usr/local/lib/python3.6/dist-packages (from requests->kaggle) (3.0.4)\n",
            "Requirement already satisfied: text-unidecode>=1.3 in /usr/local/lib/python3.6/dist-packages (from python-slugify->kaggle) (1.3)\n",
            "kaggle.json\n",
            "Downloading groceries-dataset.zip to /content\n",
            "  0% 0.00/257k [00:00<?, ?B/s]\n",
            "100% 257k/257k [00:00<00:00, 80.5MB/s]\n"
          ],
          "name": "stdout"
        }
      ]
    },
    {
      "cell_type": "markdown",
      "metadata": {
        "id": "OP8Qlb14V_9i"
      },
      "source": [
        "#### Imports"
      ]
    },
    {
      "cell_type": "code",
      "metadata": {
        "id": "42FxKgGZd4Le",
        "outputId": "fda37ae2-eec2-4e7b-d4e8-519a78b1b12f",
        "colab": {
          "base_uri": "https://localhost:8080/",
          "height": 204
        }
      },
      "source": [
        "import pandas as pd\n",
        "df = pd.read_csv('Groceries_dataset.csv')\n",
        "df.head(5)"
      ],
      "execution_count": 4,
      "outputs": [
        {
          "output_type": "execute_result",
          "data": {
            "text/html": [
              "<div>\n",
              "<style scoped>\n",
              "    .dataframe tbody tr th:only-of-type {\n",
              "        vertical-align: middle;\n",
              "    }\n",
              "\n",
              "    .dataframe tbody tr th {\n",
              "        vertical-align: top;\n",
              "    }\n",
              "\n",
              "    .dataframe thead th {\n",
              "        text-align: right;\n",
              "    }\n",
              "</style>\n",
              "<table border=\"1\" class=\"dataframe\">\n",
              "  <thead>\n",
              "    <tr style=\"text-align: right;\">\n",
              "      <th></th>\n",
              "      <th>Member_number</th>\n",
              "      <th>Date</th>\n",
              "      <th>itemDescription</th>\n",
              "    </tr>\n",
              "  </thead>\n",
              "  <tbody>\n",
              "    <tr>\n",
              "      <th>0</th>\n",
              "      <td>1808</td>\n",
              "      <td>21-07-2015</td>\n",
              "      <td>tropical fruit</td>\n",
              "    </tr>\n",
              "    <tr>\n",
              "      <th>1</th>\n",
              "      <td>2552</td>\n",
              "      <td>05-01-2015</td>\n",
              "      <td>whole milk</td>\n",
              "    </tr>\n",
              "    <tr>\n",
              "      <th>2</th>\n",
              "      <td>2300</td>\n",
              "      <td>19-09-2015</td>\n",
              "      <td>pip fruit</td>\n",
              "    </tr>\n",
              "    <tr>\n",
              "      <th>3</th>\n",
              "      <td>1187</td>\n",
              "      <td>12-12-2015</td>\n",
              "      <td>other vegetables</td>\n",
              "    </tr>\n",
              "    <tr>\n",
              "      <th>4</th>\n",
              "      <td>3037</td>\n",
              "      <td>01-02-2015</td>\n",
              "      <td>whole milk</td>\n",
              "    </tr>\n",
              "  </tbody>\n",
              "</table>\n",
              "</div>"
            ],
            "text/plain": [
              "   Member_number        Date   itemDescription\n",
              "0           1808  21-07-2015    tropical fruit\n",
              "1           2552  05-01-2015        whole milk\n",
              "2           2300  19-09-2015         pip fruit\n",
              "3           1187  12-12-2015  other vegetables\n",
              "4           3037  01-02-2015        whole milk"
            ]
          },
          "metadata": {
            "tags": []
          },
          "execution_count": 4
        }
      ]
    },
    {
      "cell_type": "markdown",
      "metadata": {
        "id": "QAmKbL1vX1RC"
      },
      "source": [
        "### Find out items that are frequenty bought together\n",
        "- Group by customer ID and date\n",
        " - Find max count (which items are most associated)\n",
        " - remove outliers"
      ]
    },
    {
      "cell_type": "code",
      "metadata": {
        "id": "Em_DzLtmYTZa"
      },
      "source": [
        ""
      ],
      "execution_count": null,
      "outputs": []
    },
    {
      "cell_type": "markdown",
      "metadata": {
        "id": "tvNSlsJ-YB4b"
      },
      "source": [
        "### Find out which items are most popular (value_counts)"
      ]
    },
    {
      "cell_type": "code",
      "metadata": {
        "id": "OrnZTd8qYUO0",
        "collapsed": true,
        "outputId": "dbc67251-eaf3-4bc9-d61e-b173526f1518",
        "colab": {
          "base_uri": "https://localhost:8080/"
        }
      },
      "source": [
        "# Checking whether any incorrect value is present\n",
        "for item in df.itemDescription.unique():\n",
        "  print(item)"
      ],
      "execution_count": 9,
      "outputs": [
        {
          "output_type": "stream",
          "text": [
            "tropical fruit\n",
            "whole milk\n",
            "pip fruit\n",
            "other vegetables\n",
            "rolls/buns\n",
            "pot plants\n",
            "citrus fruit\n",
            "beef\n",
            "frankfurter\n",
            "chicken\n",
            "butter\n",
            "fruit/vegetable juice\n",
            "packaged fruit/vegetables\n",
            "chocolate\n",
            "specialty bar\n",
            "butter milk\n",
            "bottled water\n",
            "yogurt\n",
            "sausage\n",
            "brown bread\n",
            "hamburger meat\n",
            "root vegetables\n",
            "pork\n",
            "pastry\n",
            "canned beer\n",
            "berries\n",
            "coffee\n",
            "misc. beverages\n",
            "ham\n",
            "turkey\n",
            "curd cheese\n",
            "red/blush wine\n",
            "frozen potato products\n",
            "flour\n",
            "sugar\n",
            "frozen meals\n",
            "herbs\n",
            "soda\n",
            "detergent\n",
            "grapes\n",
            "processed cheese\n",
            "fish\n",
            "sparkling wine\n",
            "newspapers\n",
            "curd\n",
            "pasta\n",
            "popcorn\n",
            "finished products\n",
            "beverages\n",
            "bottled beer\n",
            "dessert\n",
            "dog food\n",
            "specialty chocolate\n",
            "condensed milk\n",
            "cleaner\n",
            "white wine\n",
            "meat\n",
            "ice cream\n",
            "hard cheese\n",
            "cream cheese \n",
            "liquor\n",
            "pickled vegetables\n",
            "liquor (appetizer)\n",
            "UHT-milk\n",
            "candy\n",
            "onions\n",
            "hair spray\n",
            "photo/film\n",
            "domestic eggs\n",
            "margarine\n",
            "shopping bags\n",
            "salt\n",
            "oil\n",
            "whipped/sour cream\n",
            "frozen vegetables\n",
            "sliced cheese\n",
            "dish cleaner\n",
            "baking powder\n",
            "specialty cheese\n",
            "salty snack\n",
            "Instant food products\n",
            "pet care\n",
            "white bread\n",
            "female sanitary products\n",
            "cling film/bags\n",
            "soap\n",
            "frozen chicken\n",
            "house keeping products\n",
            "spread cheese\n",
            "decalcifier\n",
            "frozen dessert\n",
            "vinegar\n",
            "nuts/prunes\n",
            "potato products\n",
            "frozen fish\n",
            "hygiene articles\n",
            "artif. sweetener\n",
            "light bulbs\n",
            "canned vegetables\n",
            "chewing gum\n",
            "canned fish\n",
            "cookware\n",
            "semi-finished bread\n",
            "cat food\n",
            "bathroom cleaner\n",
            "prosecco\n",
            "liver loaf\n",
            "zwieback\n",
            "canned fruit\n",
            "frozen fruits\n",
            "brandy\n",
            "baby cosmetics\n",
            "spices\n",
            "napkins\n",
            "waffles\n",
            "sauces\n",
            "rum\n",
            "chocolate marshmallow\n",
            "long life bakery product\n",
            "bags\n",
            "sweet spreads\n",
            "soups\n",
            "mustard\n",
            "specialty fat\n",
            "instant coffee\n",
            "snack products\n",
            "organic sausage\n",
            "soft cheese\n",
            "mayonnaise\n",
            "dental care\n",
            "roll products \n",
            "kitchen towels\n",
            "flower soil/fertilizer\n",
            "cereals\n",
            "meat spreads\n",
            "dishes\n",
            "male cosmetics\n",
            "candles\n",
            "whisky\n",
            "tidbits\n",
            "cooking chocolate\n",
            "seasonal products\n",
            "liqueur\n",
            "abrasive cleaner\n",
            "syrup\n",
            "ketchup\n",
            "cream\n",
            "skin care\n",
            "rubbing alcohol\n",
            "nut snack\n",
            "cocoa drinks\n",
            "softener\n",
            "organic products\n",
            "cake bar\n",
            "honey\n",
            "jam\n",
            "kitchen utensil\n",
            "flower (seeds)\n",
            "rice\n",
            "tea\n",
            "salad dressing\n",
            "specialty vegetables\n",
            "pudding powder\n",
            "ready soups\n",
            "make up remover\n",
            "toilet cleaner\n",
            "preservation products\n"
          ],
          "name": "stdout"
        }
      ]
    },
    {
      "cell_type": "code",
      "metadata": {
        "id": "1q3bsqJdXuOV",
        "outputId": "eb6b32c6-dd71-4e88-cb7b-7aacb00cdb88",
        "colab": {
          "base_uri": "https://localhost:8080/"
        }
      },
      "source": [
        "df.itemDescription.value_counts()"
      ],
      "execution_count": 11,
      "outputs": [
        {
          "output_type": "execute_result",
          "data": {
            "text/plain": [
              "whole milk               2502\n",
              "other vegetables         1898\n",
              "rolls/buns               1716\n",
              "soda                     1514\n",
              "yogurt                   1334\n",
              "                         ... \n",
              "make up remover             5\n",
              "bags                        4\n",
              "baby cosmetics              3\n",
              "kitchen utensil             1\n",
              "preservation products       1\n",
              "Name: itemDescription, Length: 167, dtype: int64"
            ]
          },
          "metadata": {
            "tags": []
          },
          "execution_count": 11
        }
      ]
    },
    {
      "cell_type": "code",
      "metadata": {
        "id": "69Pd2sLYY_eV",
        "outputId": "6772f8ef-b004-43a0-b3eb-0a29e16cbebe",
        "colab": {
          "base_uri": "https://localhost:8080/",
          "height": 608
        }
      },
      "source": [
        "df.itemDescription.value_counts()[:10].plot(kind='pie', figsize=(10,10), colormap='copper', title=\"Top 10 Most Popular Items\")"
      ],
      "execution_count": 46,
      "outputs": [
        {
          "output_type": "execute_result",
          "data": {
            "text/plain": [
              "<matplotlib.axes._subplots.AxesSubplot at 0x7f4767176668>"
            ]
          },
          "metadata": {
            "tags": []
          },
          "execution_count": 46
        },
        {
          "output_type": "display_data",
          "data": {
            "image/png": "[encoded data removed]",
            "text/plain": [
              "<Figure size 720x720 with 1 Axes>"
            ]
          },
          "metadata": {
            "tags": []
          }
        }
      ]
    },
    {
      "cell_type": "markdown",
      "metadata": {
        "id": "5s6cP69tYoSF"
      },
      "source": [
        "The most selling product is `Whole Milk` (sold 2500+)."
      ]
    },
    {
      "cell_type": "markdown",
      "metadata": {
        "id": "0EGn5ED4YFy0"
      },
      "source": [
        "### Find out customers that are most loyal\n"
      ]
    },
    {
      "cell_type": "code",
      "metadata": {
        "id": "DmoVorFuYUzg",
        "outputId": "2ef1e8a2-5274-418f-9cff-ce59b35d4d72",
        "colab": {
          "base_uri": "https://localhost:8080/"
        }
      },
      "source": [
        "df.Member_number.value_counts()"
      ],
      "execution_count": 47,
      "outputs": [
        {
          "output_type": "execute_result",
          "data": {
            "text/plain": [
              "3180    36\n",
              "3050    33\n",
              "2051    33\n",
              "3737    33\n",
              "2433    31\n",
              "        ..\n",
              "4565     2\n",
              "2373     2\n",
              "3788     2\n",
              "2614     2\n",
              "2844     2\n",
              "Name: Member_number, Length: 3898, dtype: int64"
            ]
          },
          "metadata": {
            "tags": []
          },
          "execution_count": 47
        }
      ]
    },
    {
      "cell_type": "code",
      "metadata": {
        "id": "EUlQ6Xo9eWkM",
        "outputId": "9f4ae9a2-7809-4b0b-9025-41aaf4a81754",
        "colab": {
          "base_uri": "https://localhost:8080/"
        }
      },
      "source": [
        "df[['Member_number', 'Date']].groupby(by=['Member_number', 'Date']).size()"
      ],
      "execution_count": 64,
      "outputs": [
        {
          "output_type": "execute_result",
          "data": {
            "text/plain": [
              "Member_number  Date      \n",
              "1000           15-03-2015    4\n",
              "               24-06-2014    3\n",
              "               24-07-2015    2\n",
              "               25-11-2015    2\n",
              "               27-05-2015    2\n",
              "                            ..\n",
              "4999           24-01-2015    6\n",
              "               26-12-2015    2\n",
              "5000           09-03-2014    2\n",
              "               10-02-2015    3\n",
              "               16-11-2014    2\n",
              "Length: 14963, dtype: int64"
            ]
          },
          "metadata": {
            "tags": []
          },
          "execution_count": 64
        }
      ]
    },
    {
      "cell_type": "code",
      "metadata": {
        "id": "Al0XhUKMhxeA"
      },
      "source": [
        "df.groupby(['Member_number', 'Date']).size().reset_index(name='counts')"
      ],
      "execution_count": null,
      "outputs": []
    },
    {
      "cell_type": "code",
      "metadata": {
        "id": "cC9yEk_4gqbB",
        "outputId": "91fdce0d-78a9-4e59-fac9-928d0f7a0b16",
        "colab": {
          "base_uri": "https://localhost:8080/",
          "height": 204
        }
      },
      "source": [
        "new_df = df.groupby(['Member_number', 'Date']).size().reset_index(name='counts')\n",
        "new_df.head()"
      ],
      "execution_count": 91,
      "outputs": [
        {
          "output_type": "execute_result",
          "data": {
            "text/html": [
              "<div>\n",
              "<style scoped>\n",
              "    .dataframe tbody tr th:only-of-type {\n",
              "        vertical-align: middle;\n",
              "    }\n",
              "\n",
              "    .dataframe tbody tr th {\n",
              "        vertical-align: top;\n",
              "    }\n",
              "\n",
              "    .dataframe thead th {\n",
              "        text-align: right;\n",
              "    }\n",
              "</style>\n",
              "<table border=\"1\" class=\"dataframe\">\n",
              "  <thead>\n",
              "    <tr style=\"text-align: right;\">\n",
              "      <th></th>\n",
              "      <th>Member_number</th>\n",
              "      <th>Date</th>\n",
              "      <th>counts</th>\n",
              "    </tr>\n",
              "  </thead>\n",
              "  <tbody>\n",
              "    <tr>\n",
              "      <th>0</th>\n",
              "      <td>1000</td>\n",
              "      <td>15-03-2015</td>\n",
              "      <td>4</td>\n",
              "    </tr>\n",
              "    <tr>\n",
              "      <th>1</th>\n",
              "      <td>1000</td>\n",
              "      <td>24-06-2014</td>\n",
              "      <td>3</td>\n",
              "    </tr>\n",
              "    <tr>\n",
              "      <th>2</th>\n",
              "      <td>1000</td>\n",
              "      <td>24-07-2015</td>\n",
              "      <td>2</td>\n",
              "    </tr>\n",
              "    <tr>\n",
              "      <th>3</th>\n",
              "      <td>1000</td>\n",
              "      <td>25-11-2015</td>\n",
              "      <td>2</td>\n",
              "    </tr>\n",
              "    <tr>\n",
              "      <th>4</th>\n",
              "      <td>1000</td>\n",
              "      <td>27-05-2015</td>\n",
              "      <td>2</td>\n",
              "    </tr>\n",
              "  </tbody>\n",
              "</table>\n",
              "</div>"
            ],
            "text/plain": [
              "   Member_number        Date  counts\n",
              "0           1000  15-03-2015       4\n",
              "1           1000  24-06-2014       3\n",
              "2           1000  24-07-2015       2\n",
              "3           1000  25-11-2015       2\n",
              "4           1000  27-05-2015       2"
            ]
          },
          "metadata": {
            "tags": []
          },
          "execution_count": 91
        }
      ]
    },
    {
      "cell_type": "code",
      "metadata": {
        "id": "G9c59tmQiFjr",
        "outputId": "faa938ec-b07b-403f-e53c-c840e63cf3f7",
        "colab": {
          "base_uri": "https://localhost:8080/"
        }
      },
      "source": [
        "for key in new_df:\n",
        "  print(key)"
      ],
      "execution_count": 96,
      "outputs": [
        {
          "output_type": "stream",
          "text": [
            "Member_number\n",
            "Date\n",
            "counts\n"
          ],
          "name": "stdout"
        }
      ]
    },
    {
      "cell_type": "code",
      "metadata": {
        "id": "9daCq-sxkavW",
        "outputId": "0882b7be-ad2a-485b-e65d-eea436b87eec",
        "colab": {
          "base_uri": "https://localhost:8080/"
        }
      },
      "source": [
        ""
      ],
      "execution_count": 86,
      "outputs": [
        {
          "output_type": "execute_result",
          "data": {
            "text/plain": [
              "38765"
            ]
          },
          "metadata": {
            "tags": []
          },
          "execution_count": 86
        }
      ]
    },
    {
      "cell_type": "markdown",
      "metadata": {
        "id": "YHZEqafOZXDm"
      },
      "source": [
        "## References\n",
        "- [Download dataset from Kaggle](https://gist.github.com/jayspeidell/d10b84b8d3da52df723beacc5b15cb27#gistcomment-3509158)\n",
        "- [How to plot value_counts](https://mode.com/python-tutorial/counting-and-plotting-in-python/#visualizing-data-with-plot)\n",
        "- [Colorscheme](https://matplotlib.org/3.1.0/tutorials/colors/colormaps.html)\n",
        "- [Pandas documentation for Plots](https://pandas.pydata.org/pandas-docs/stable/reference/api/pandas.DataFrame.plot.html)"
      ]
    }
  ]
}