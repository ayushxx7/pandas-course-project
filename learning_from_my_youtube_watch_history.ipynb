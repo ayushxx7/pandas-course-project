{
  "nbformat": 4,
  "nbformat_minor": 0,
  "metadata": {
    "kernelspec": {
      "display_name": "Python 3",
      "language": "python",
      "name": "python3"
    },
    "language_info": {
      "codemirror_mode": {
        "name": "ipython",
        "version": 3
      },
      "file_extension": ".py",
      "mimetype": "text/x-python",
      "name": "python",
      "nbconvert_exporter": "python",
      "pygments_lexer": "ipython3",
      "version": "3.8.5"
    },
    "colab": {
      "name": "learning-from-my-youtube-watch-history.ipynb",
      "provenance": [],
      "include_colab_link": true
    }
  },
  "cells": [
    {
      "cell_type": "markdown",
      "metadata": {
        "id": "view-in-github",
        "colab_type": "text"
      },
      "source": [
        "<a href=\"https://colab.research.google.com/github/ayushxx7/pandas-course-project/blob/master/learning_from_my_youtube_watch_history.ipynb\" target=\"_parent\"><img src=\"https://colab.research.google.com/assets/colab-badge.svg\" alt=\"Open In Colab\"/></a>"
      ]
    },
    {
      "cell_type": "code",
      "metadata": {
        "id": "yLO4zZht9g9b"
      },
      "source": [
        "# Jovian Commit Essentials\n",
        "# Please retain and execute this cell without modifying the contents for `jovian.commit` to work\n",
        "!pip install jovian --upgrade -q\n",
        "import jovian\n",
        "jovian.utils.colab.set_colab_file_id('1Wtz6lkkuAuUms4RROC4sA67WSBaN0v6t')"
      ],
      "execution_count": null,
      "outputs": []
    },
    {
      "cell_type": "markdown",
      "metadata": {
        "id": "m0Gp71WF9g9f"
      },
      "source": [
        "# Learning from my Youtube watch history\n",
        "\n",
        "I like YouTube. A lot. It is a great tool to learn new skills and enjoy diverse culture from the whole world. What I don't like is YouTube's algorithm constatly trying to grab my attention to sell it to advertisers. I feel too often trapped in pressing the next recommended video not even realizing what I am doing. As feelings are not always useful to understand myself, I decided to analyse the YouTube watch history to understand my usage with data.\n",
        "\n",
        "This notebook is a course project for the class _[Data Analysis with Python: Zero to Pandas](https://jovian.ml/learn/data-analysis-with-python-zero-to-pandas)_ by Jovian.ml and has been inspired by the following analyses:\n",
        "* [Analyzing your browser history using Pandas & Seaborn](https://medium.com/free-code-camp/understanding-my-browsing-pattern-using-pandas-and-seaborn-162b97e33e51) by Kartik Godawat\n",
        "* [WhatsApp Chat Data Analysis](https://jovian.ml/PrajwalPrashanth/whatsapp-chat-data-analysis) by Prajwal Prashanth"
      ]
    },
    {
      "cell_type": "markdown",
      "metadata": {
        "id": "MmfcfjfK9g9g"
      },
      "source": [
        "## Data Preparation and Cleaning"
      ]
    },
    {
      "cell_type": "markdown",
      "metadata": {
        "id": "WifAPAMM9g9g"
      },
      "source": [
        "I will be using the following modules:"
      ]
    },
    {
      "cell_type": "code",
      "metadata": {
        "id": "CuMZb_-J9g9h",
        "outputId": "4ab4afd5-c349-412f-9e3c-f770caa45d31",
        "colab": {
          "base_uri": "https://localhost:8080/",
          "height": 153
        }
      },
      "source": [
        "!pip install pandas matplotlib seaborn jovian numpy --upgrade --quiet"
      ],
      "execution_count": 1,
      "outputs": [
        {
          "output_type": "stream",
          "text": [
            "\u001b[K     |████████████████████████████████| 9.5MB 3.3MB/s \n",
            "\u001b[K     |████████████████████████████████| 11.6MB 54.6MB/s \n",
            "\u001b[K     |████████████████████████████████| 71kB 8.1MB/s \n",
            "\u001b[K     |████████████████████████████████| 14.5MB 189kB/s \n",
            "\u001b[?25h  Building wheel for uuid (setup.py) ... \u001b[?25l\u001b[?25hdone\n",
            "\u001b[31mERROR: tensorflow 2.3.0 has requirement numpy<1.19.0,>=1.16.0, but you'll have numpy 1.19.2 which is incompatible.\u001b[0m\n",
            "\u001b[31mERROR: datascience 0.10.6 has requirement folium==0.2.1, but you'll have folium 0.8.3 which is incompatible.\u001b[0m\n",
            "\u001b[31mERROR: albumentations 0.1.12 has requirement imgaug<0.2.7,>=0.2.5, but you'll have imgaug 0.2.9 which is incompatible.\u001b[0m\n"
          ],
          "name": "stdout"
        }
      ]
    },
    {
      "cell_type": "code",
      "metadata": {
        "id": "-K585F8o9g9j"
      },
      "source": [
        "import json\n",
        "import pandas as pd\n",
        "import matplotlib.pyplot as plt\n",
        "import seaborn as sns\n",
        "import jovian\n",
        "import numpy as np\n",
        "%matplotlib inline"
      ],
      "execution_count": 2,
      "outputs": []
    },
    {
      "cell_type": "markdown",
      "metadata": {
        "id": "o4R0KYZB9g9m"
      },
      "source": [
        "And start by saving the notebook to jovian.ml"
      ]
    },
    {
      "cell_type": "code",
      "metadata": {
        "id": "u6e_bOb99g9n"
      },
      "source": [
        "project_name = \"learning-from-my-youtube-watch-history\""
      ],
      "execution_count": null,
      "outputs": []
    },
    {
      "cell_type": "code",
      "metadata": {
        "id": "N31Ltm-y9g9p",
        "outputId": "e2c22903-9e3d-4bf8-cd05-1d85777f436c"
      },
      "source": [
        "jovian.commit(project=project_name, environment=\"pip\")"
      ],
      "execution_count": null,
      "outputs": [
        {
          "output_type": "display_data",
          "data": {
            "application/javascript": [
              "window.require && require([\"base/js/namespace\"],function(Jupyter){Jupyter.notebook.save_checkpoint()})"
            ],
            "text/plain": [
              "<IPython.core.display.Javascript object>"
            ]
          },
          "metadata": {
            "tags": []
          }
        },
        {
          "output_type": "stream",
          "text": [
            "[jovian] Attempting to save notebook..\n",
            "[jovian] Updating notebook \"lucafrance/learning-from-my-youtube-watch-history\" on https://jovian.ml/\n",
            "[jovian] Uploading notebook..\n",
            "[jovian] Capturing environment..\n",
            "[jovian] Committed successfully! https://jovian.ml/lucafrance/learning-from-my-youtube-watch-history\n"
          ],
          "name": "stdout"
        },
        {
          "output_type": "execute_result",
          "data": {
            "text/plain": [
              "'https://jovian.ml/lucafrance/learning-from-my-youtube-watch-history'"
            ]
          },
          "metadata": {
            "tags": []
          },
          "execution_count": 4
        }
      ]
    },
    {
      "cell_type": "markdown",
      "metadata": {
        "id": "ZHpEhBaC9g9r"
      },
      "source": [
        "### Retrieving the data with Google Takeout\n",
        "Youtube's data can be downloaded from [Google Takeout](https://takeout.google.com/settings/takeout) by checking _Youtube and YouTube Music_."
      ]
    },
    {
      "cell_type": "markdown",
      "metadata": {
        "id": "vd0Y9e2w9g9r"
      },
      "source": [
        "![Google Takeout 01.png](attachment:ac700d43-a48f-4d45-bb44-0132df0a89ee.png)"
      ]
    },
    {
      "cell_type": "markdown",
      "metadata": {
        "id": "XJfMVVc_9g9s"
      },
      "source": [
        "Before proceeding, I cliked _Multiple formats_ and picked _json_ for the watch history."
      ]
    },
    {
      "cell_type": "markdown",
      "metadata": {
        "id": "bS9zLKVZ9g9s"
      },
      "source": [
        "![2020-09-25 09_15_22-Window.png](attachment:52295898-b1a4-4516-9464-d4f7105c44e0.png)"
      ]
    },
    {
      "cell_type": "markdown",
      "metadata": {
        "id": "SpF3mMr_9g9t"
      },
      "source": [
        "The next option is to choose how the data should be delivered."
      ]
    },
    {
      "cell_type": "markdown",
      "metadata": {
        "id": "VQkxFg8h9g9t"
      },
      "source": [
        "![Google Takeout 02.png](attachment:8ad42132-9a84-4f70-8de5-9d641e42396e.png)"
      ]
    },
    {
      "cell_type": "markdown",
      "metadata": {
        "id": "b9kz2udv9g9u"
      },
      "source": [
        "An email is sent once the data is ready. In my case it just took a few minutes."
      ]
    },
    {
      "cell_type": "markdown",
      "metadata": {
        "id": "bruLG6d09g9u"
      },
      "source": [
        "![Google Takeout 03.png](attachment:0841562b-9dde-45ad-9091-84750401c39c.png)"
      ]
    },
    {
      "cell_type": "markdown",
      "metadata": {
        "id": "E9YgHnwP9g9v"
      },
      "source": [
        "I then copied the files _subscriptions.json_ and _watch_history.json_ to a _youtube-takeout_ folder in this notebook's location.\n",
        "\n",
        "My data is restricted to the last three months, as that's the limit I set in Google's privacy settings."
      ]
    },
    {
      "cell_type": "code",
      "metadata": {
        "id": "MaBttLBd9g9v",
        "outputId": "ba65e4d4-529e-4654-d456-3eb30362ae49"
      },
      "source": [
        "jovian.commit(environment=\"pip\")"
      ],
      "execution_count": null,
      "outputs": [
        {
          "output_type": "display_data",
          "data": {
            "application/javascript": [
              "window.require && require([\"base/js/namespace\"],function(Jupyter){Jupyter.notebook.save_checkpoint()})"
            ],
            "text/plain": [
              "<IPython.core.display.Javascript object>"
            ]
          },
          "metadata": {
            "tags": []
          }
        },
        {
          "output_type": "stream",
          "text": [
            "[jovian] Attempting to save notebook..\n",
            "[jovian] Updating notebook \"lucafrance/learning-from-my-youtube-watch-history\" on https://jovian.ml/\n",
            "[jovian] Uploading notebook..\n",
            "[jovian] Capturing environment..\n",
            "[jovian] Committed successfully! https://jovian.ml/lucafrance/learning-from-my-youtube-watch-history\n"
          ],
          "name": "stdout"
        },
        {
          "output_type": "execute_result",
          "data": {
            "text/plain": [
              "'https://jovian.ml/lucafrance/learning-from-my-youtube-watch-history'"
            ]
          },
          "metadata": {
            "tags": []
          },
          "execution_count": 5
        }
      ]
    },
    {
      "cell_type": "markdown",
      "metadata": {
        "id": "3KrccHnX9g9y"
      },
      "source": [
        "### Reading the subscriptions"
      ]
    },
    {
      "cell_type": "markdown",
      "metadata": {
        "id": "_P91G9vH9g9z"
      },
      "source": [
        "The subscriptions list is provided as a json file, which I read with the standard `json` module."
      ]
    },
    {
      "cell_type": "code",
      "metadata": {
        "id": "Owr7OBWRBxAH"
      },
      "source": [
        ""
      ],
      "execution_count": null,
      "outputs": []
    },
    {
      "cell_type": "code",
      "metadata": {
        "id": "KlnBfUAOBzYN",
        "outputId": "2b3cdd58-bd40-417b-b66a-5d36f7711d0c",
        "colab": {
          "base_uri": "https://localhost:8080/",
          "height": 34
        }
      },
      "source": [
        "from google.colab import drive\n",
        "drive.mount('/content/drive')"
      ],
      "execution_count": 6,
      "outputs": [
        {
          "output_type": "stream",
          "text": [
            "Drive already mounted at /content/drive; to attempt to forcibly remount, call drive.mount(\"/content/drive\", force_remount=True).\n"
          ],
          "name": "stdout"
        }
      ]
    },
    {
      "cell_type": "code",
      "metadata": {
        "id": "gYJahNxUCAZg"
      },
      "source": [
        "import os\n",
        "takeout_zip_path = \"/content/drive/My Drive/takeout-20201008T123312Z-001.zip\""
      ],
      "execution_count": 13,
      "outputs": []
    },
    {
      "cell_type": "code",
      "metadata": {
        "id": "2hMMpNv3CTxy"
      },
      "source": [
        "from zipfile import ZipFile\n",
        "\n",
        "with ZipFile(takeout_zip_path) as myzip:\n",
        "    myzip.extractall(path='takeout_ayush')"
      ],
      "execution_count": 16,
      "outputs": []
    },
    {
      "cell_type": "code",
      "metadata": {
        "id": "mwiRDW1rDOHX",
        "outputId": "394d5ba6-152e-47e8-9427-b6ef58d95b35",
        "colab": {
          "base_uri": "https://localhost:8080/",
          "height": 34
        }
      },
      "source": [
        "print(os.listdir('takeout_ayush'))"
      ],
      "execution_count": 17,
      "outputs": [
        {
          "output_type": "stream",
          "text": [
            "['Takeout']\n"
          ],
          "name": "stdout"
        }
      ]
    },
    {
      "cell_type": "code",
      "metadata": {
        "id": "zHfudC8O9g9z"
      },
      "source": [
        "subs_src = json.load(open(\"/content/takeout_ayush/Takeout/YouTube and YouTube Music/subscriptions/subscriptions.json\", \"rt\", encoding=\"utf8\"))"
      ],
      "execution_count": 18,
      "outputs": []
    },
    {
      "cell_type": "markdown",
      "metadata": {
        "id": "-4fWYhS49g91"
      },
      "source": [
        "`json.load` automatically read and interpreted the file as list of dictionaries. "
      ]
    },
    {
      "cell_type": "code",
      "metadata": {
        "id": "1II0ALXe9g92",
        "outputId": "8aaf0ecc-46a5-4d57-f4b6-49fd65cbf5a7",
        "colab": {
          "base_uri": "https://localhost:8080/",
          "height": 34
        }
      },
      "source": [
        "type(subs_src)"
      ],
      "execution_count": 19,
      "outputs": [
        {
          "output_type": "execute_result",
          "data": {
            "text/plain": [
              "list"
            ]
          },
          "metadata": {
            "tags": []
          },
          "execution_count": 19
        }
      ]
    },
    {
      "cell_type": "code",
      "metadata": {
        "id": "xZoC1Fq29g94",
        "outputId": "bc978655-c719-4979-ed62-13c8e10e8200",
        "colab": {
          "base_uri": "https://localhost:8080/",
          "height": 34
        }
      },
      "source": [
        "type(subs_src[0])"
      ],
      "execution_count": 20,
      "outputs": [
        {
          "output_type": "execute_result",
          "data": {
            "text/plain": [
              "dict"
            ]
          },
          "metadata": {
            "tags": []
          },
          "execution_count": 20
        }
      ]
    },
    {
      "cell_type": "markdown",
      "metadata": {
        "id": "DiASKu0A9g96"
      },
      "source": [
        "Looking at the dictionary structure for the first subscription I was able to see how to retrieve the information I was interested in. "
      ]
    },
    {
      "cell_type": "code",
      "metadata": {
        "id": "xLtMTpg99g96",
        "outputId": "04f6ff13-aae1-483c-80a1-91288543d848",
        "colab": {
          "base_uri": "https://localhost:8080/",
          "height": 272
        }
      },
      "source": [
        "subs_src[0]"
      ],
      "execution_count": 21,
      "outputs": [
        {
          "output_type": "execute_result",
          "data": {
            "text/plain": [
              "{'contentDetails': {'activityType': 'all',\n",
              "  'newItemCount': 0,\n",
              "  'totalItemCount': 294},\n",
              " 'etag': 'FdywJ09rJe_KD7M3ndjhRe3PUhM',\n",
              " 'id': 'Ib0_uYXMOOijOy4QbxVCDT6ncQPVM-yvoDAI1Ikk8xo',\n",
              " 'kind': 'youtube#subscription',\n",
              " 'snippet': {'channelId': 'UCq0-qpfVb24-28m9A5b1VIw',\n",
              "  'description': 'An element of truth - videos about science, education, and anything else I find interesting.',\n",
              "  'publishedAt': '2014-10-14T19:26:38.000Z',\n",
              "  'resourceId': {'channelId': 'UCHnyfMqiRRG1u-2MsSQLbXA',\n",
              "   'kind': 'youtube#channel'},\n",
              "  'thumbnails': {'default': {'url': 'https://yt3.ggpht.com/-uMv_62rHYAY/AAAAAAAAAAI/AAAAAAAAAAA/4VP2Io8W-PY/s88-c-k-no-mo-rj-c0xffffff/photo.jpg'},\n",
              "   'high': {'url': 'https://yt3.ggpht.com/-uMv_62rHYAY/AAAAAAAAAAI/AAAAAAAAAAA/4VP2Io8W-PY/s800-c-k-no-mo-rj-c0xffffff/photo.jpg'},\n",
              "   'medium': {'url': 'https://yt3.ggpht.com/-uMv_62rHYAY/AAAAAAAAAAI/AAAAAAAAAAA/4VP2Io8W-PY/s240-c-k-no-mo-rj-c0xffffff/photo.jpg'}},\n",
              "  'title': 'Veritasium'}}"
            ]
          },
          "metadata": {
            "tags": []
          },
          "execution_count": 21
        }
      ]
    },
    {
      "cell_type": "code",
      "metadata": {
        "id": "uQg0AFS19g98",
        "outputId": "5d859477-ceb9-40f6-8533-23b57e5f40d9",
        "colab": {
          "base_uri": "https://localhost:8080/",
          "height": 35
        }
      },
      "source": [
        "subs_src[0][\"snippet\"][\"title\"]"
      ],
      "execution_count": 22,
      "outputs": [
        {
          "output_type": "execute_result",
          "data": {
            "application/vnd.google.colaboratory.intrinsic+json": {
              "type": "string"
            },
            "text/plain": [
              "'Veritasium'"
            ]
          },
          "metadata": {
            "tags": []
          },
          "execution_count": 22
        }
      ]
    },
    {
      "cell_type": "code",
      "metadata": {
        "id": "RC4TABMu9g9-",
        "outputId": "98b6e6b4-7641-41d8-9c07-55a9ea047e4d",
        "colab": {
          "base_uri": "https://localhost:8080/",
          "height": 35
        }
      },
      "source": [
        "subs_src[0][\"snippet\"][\"description\"]"
      ],
      "execution_count": 23,
      "outputs": [
        {
          "output_type": "execute_result",
          "data": {
            "application/vnd.google.colaboratory.intrinsic+json": {
              "type": "string"
            },
            "text/plain": [
              "'An element of truth - videos about science, education, and anything else I find interesting.'"
            ]
          },
          "metadata": {
            "tags": []
          },
          "execution_count": 23
        }
      ]
    },
    {
      "cell_type": "code",
      "metadata": {
        "id": "nrV5EnjG9g-B",
        "outputId": "0641436f-0999-4255-c5bb-54555f648f31",
        "colab": {
          "base_uri": "https://localhost:8080/",
          "height": 35
        }
      },
      "source": [
        "subs_src[0][\"snippet\"][\"resourceId\"][\"channelId\"]"
      ],
      "execution_count": 24,
      "outputs": [
        {
          "output_type": "execute_result",
          "data": {
            "application/vnd.google.colaboratory.intrinsic+json": {
              "type": "string"
            },
            "text/plain": [
              "'UCHnyfMqiRRG1u-2MsSQLbXA'"
            ]
          },
          "metadata": {
            "tags": []
          },
          "execution_count": 24
        }
      ]
    },
    {
      "cell_type": "markdown",
      "metadata": {
        "id": "3R0BmkZP9g-D"
      },
      "source": [
        "I then put this information in a dictionary of lists, which I then converted to a Pandas `DataFrame`. From the channel id I was also able to compute the channel url."
      ]
    },
    {
      "cell_type": "code",
      "metadata": {
        "id": "4E1RbgPp9g-D"
      },
      "source": [
        "subs_dict = {\"channel-id\": [], \"channel-url\": [], \"channel-name\": [], \"channel-description\": []}"
      ],
      "execution_count": 25,
      "outputs": []
    },
    {
      "cell_type": "code",
      "metadata": {
        "id": "bkybdrje9g-F"
      },
      "source": [
        "for sub in subs_src:\n",
        "    subs_dict[\"channel-id\"].append(sub[\"snippet\"][\"resourceId\"][\"channelId\"])\n",
        "    subs_dict[\"channel-url\"].append(\"https://www.youtube.com/channel/\" + sub[\"snippet\"][\"resourceId\"][\"channelId\"])\n",
        "    subs_dict[\"channel-name\"].append(sub[\"snippet\"][\"title\"])\n",
        "    subs_dict[\"channel-description\"].append(sub[\"snippet\"][\"description\"])"
      ],
      "execution_count": 26,
      "outputs": []
    },
    {
      "cell_type": "code",
      "metadata": {
        "id": "Uhz0VIec9g-H",
        "outputId": "e8e91584-de9f-44af-aae3-d3c68cde13f1",
        "colab": {
          "base_uri": "https://localhost:8080/",
          "height": 204
        }
      },
      "source": [
        "subs_df = pd.DataFrame(subs_dict)\n",
        "subs_df.sample(5)"
      ],
      "execution_count": 27,
      "outputs": [
        {
          "output_type": "execute_result",
          "data": {
            "text/html": [
              "<div>\n",
              "<style scoped>\n",
              "    .dataframe tbody tr th:only-of-type {\n",
              "        vertical-align: middle;\n",
              "    }\n",
              "\n",
              "    .dataframe tbody tr th {\n",
              "        vertical-align: top;\n",
              "    }\n",
              "\n",
              "    .dataframe thead th {\n",
              "        text-align: right;\n",
              "    }\n",
              "</style>\n",
              "<table border=\"1\" class=\"dataframe\">\n",
              "  <thead>\n",
              "    <tr style=\"text-align: right;\">\n",
              "      <th></th>\n",
              "      <th>channel-id</th>\n",
              "      <th>channel-url</th>\n",
              "      <th>channel-name</th>\n",
              "      <th>channel-description</th>\n",
              "    </tr>\n",
              "  </thead>\n",
              "  <tbody>\n",
              "    <tr>\n",
              "      <th>55</th>\n",
              "      <td>UC1J4DKcJXENzC-FkyMU6dow</td>\n",
              "      <td>https://www.youtube.com/channel/UC1J4DKcJXENzC...</td>\n",
              "      <td>Shane Starnes</td>\n",
              "      <td>Your Channel for all the Latest in Android New...</td>\n",
              "    </tr>\n",
              "    <tr>\n",
              "      <th>85</th>\n",
              "      <td>UCtg5C-d_3rPUgMaxr285mQQ</td>\n",
              "      <td>https://www.youtube.com/channel/UCtg5C-d_3rPUg...</td>\n",
              "      <td>Top Trending</td>\n",
              "      <td>The most random, yet interesting videos on the...</td>\n",
              "    </tr>\n",
              "    <tr>\n",
              "      <th>106</th>\n",
              "      <td>UC5BLAk4v77FGs3YddalbDAA</td>\n",
              "      <td>https://www.youtube.com/channel/UC5BLAk4v77FGs...</td>\n",
              "      <td>Robin</td>\n",
              "      <td>Trying to tell a story here.</td>\n",
              "    </tr>\n",
              "    <tr>\n",
              "      <th>27</th>\n",
              "      <td>UCo8bcnLyZH8tBIH9V1mLgqQ</td>\n",
              "      <td>https://www.youtube.com/channel/UCo8bcnLyZH8tB...</td>\n",
              "      <td>TheOdd1sOut</td>\n",
              "      <td>What I use:\\nI draw my pictures on Paint Tools...</td>\n",
              "    </tr>\n",
              "    <tr>\n",
              "      <th>116</th>\n",
              "      <td>UC8vlDm5xvbxOrCvdu9UNOiA</td>\n",
              "      <td>https://www.youtube.com/channel/UC8vlDm5xvbxOr...</td>\n",
              "      <td>Techno Ruhez</td>\n",
              "      <td>Hi Guys! My name is Ruhez Amrelia, and I'm a 2...</td>\n",
              "    </tr>\n",
              "  </tbody>\n",
              "</table>\n",
              "</div>"
            ],
            "text/plain": [
              "                   channel-id  ...                                channel-description\n",
              "55   UC1J4DKcJXENzC-FkyMU6dow  ...  Your Channel for all the Latest in Android New...\n",
              "85   UCtg5C-d_3rPUgMaxr285mQQ  ...  The most random, yet interesting videos on the...\n",
              "106  UC5BLAk4v77FGs3YddalbDAA  ...                       Trying to tell a story here.\n",
              "27   UCo8bcnLyZH8tBIH9V1mLgqQ  ...  What I use:\\nI draw my pictures on Paint Tools...\n",
              "116  UC8vlDm5xvbxOrCvdu9UNOiA  ...  Hi Guys! My name is Ruhez Amrelia, and I'm a 2...\n",
              "\n",
              "[5 rows x 4 columns]"
            ]
          },
          "metadata": {
            "tags": []
          },
          "execution_count": 27
        }
      ]
    },
    {
      "cell_type": "code",
      "metadata": {
        "id": "qR_S_nyx9g-J"
      },
      "source": [
        "jovian.commit(environment=\"pip\")"
      ],
      "execution_count": null,
      "outputs": []
    },
    {
      "cell_type": "markdown",
      "metadata": {
        "id": "JRiEXEae9g-L"
      },
      "source": [
        "### Reading the watch history"
      ]
    },
    {
      "cell_type": "markdown",
      "metadata": {
        "id": "IAugZ1P59g-L"
      },
      "source": [
        "I also downloaded the watch history as a json file and read it with the `json` module."
      ]
    },
    {
      "cell_type": "code",
      "metadata": {
        "id": "WRNN7v6t9g-M"
      },
      "source": [
        "wh_src = json.load(open(\"youtube-takeout/watch-history.json\", \"rt\", encoding=\"utf8\"))"
      ],
      "execution_count": null,
      "outputs": []
    },
    {
      "cell_type": "markdown",
      "metadata": {
        "id": "8L6lxLoU9g-Q"
      },
      "source": [
        "As for the subscribtions, the watch history is a list of dicitionaries."
      ]
    },
    {
      "cell_type": "code",
      "metadata": {
        "id": "rZMVa23N9g-Q",
        "outputId": "57f514a8-3506-4a98-e62a-3c99dea1df68"
      },
      "source": [
        "type(wh_src)"
      ],
      "execution_count": null,
      "outputs": [
        {
          "output_type": "execute_result",
          "data": {
            "text/plain": [
              "list"
            ]
          },
          "metadata": {
            "tags": []
          },
          "execution_count": 18
        }
      ]
    },
    {
      "cell_type": "code",
      "metadata": {
        "id": "kuUO95jA9g-S",
        "outputId": "28707c0a-ba51-411a-ee18-3d1d4aa17de4"
      },
      "source": [
        "type(wh_src[0])"
      ],
      "execution_count": null,
      "outputs": [
        {
          "output_type": "execute_result",
          "data": {
            "text/plain": [
              "dict"
            ]
          },
          "metadata": {
            "tags": []
          },
          "execution_count": 19
        }
      ]
    },
    {
      "cell_type": "markdown",
      "metadata": {
        "id": "blUFpLWW9g-U"
      },
      "source": [
        "By looking at the first element, I was able to retrieve the information I was intersted in."
      ]
    },
    {
      "cell_type": "code",
      "metadata": {
        "id": "znlbj6879g-U",
        "outputId": "6a5c0806-752c-46b3-b883-a01845e4dc19"
      },
      "source": [
        "wh_src[0]"
      ],
      "execution_count": null,
      "outputs": [
        {
          "output_type": "execute_result",
          "data": {
            "text/plain": [
              "{'header': 'YouTube',\n",
              " 'title': 'Watched How to create space between sections of your notes in Apple Notes| One minute tutorial',\n",
              " 'titleUrl': 'https://www.youtube.com/watch?v=YoB2pChTXlA',\n",
              " 'subtitles': [{'name': 'Paperless X',\n",
              "   'url': 'https://www.youtube.com/channel/UCCfATzxU-7qbvUuMWpjOLkQ'}],\n",
              " 'time': '2020-09-25T06:16:34.114Z',\n",
              " 'products': ['YouTube']}"
            ]
          },
          "metadata": {
            "tags": []
          },
          "execution_count": 20
        }
      ]
    },
    {
      "cell_type": "code",
      "metadata": {
        "id": "Xv3EF1Be9g-X",
        "outputId": "c0840aa3-e7e2-4d97-f04f-913031e01a7e"
      },
      "source": [
        "wh_src[0][\"title\"]"
      ],
      "execution_count": null,
      "outputs": [
        {
          "output_type": "execute_result",
          "data": {
            "text/plain": [
              "'Watched How to create space between sections of your notes in Apple Notes| One minute tutorial'"
            ]
          },
          "metadata": {
            "tags": []
          },
          "execution_count": 21
        }
      ]
    },
    {
      "cell_type": "code",
      "metadata": {
        "id": "pVCFHGuN9g-Z",
        "outputId": "25515810-9b4a-483a-d606-b620e3912f1e"
      },
      "source": [
        "wh_src[0][\"titleUrl\"]"
      ],
      "execution_count": null,
      "outputs": [
        {
          "output_type": "execute_result",
          "data": {
            "text/plain": [
              "'https://www.youtube.com/watch?v=YoB2pChTXlA'"
            ]
          },
          "metadata": {
            "tags": []
          },
          "execution_count": 22
        }
      ]
    },
    {
      "cell_type": "code",
      "metadata": {
        "id": "xeiqB99I9g-a",
        "outputId": "d7d072e2-7d7f-49f6-9c90-adab3763ccf5"
      },
      "source": [
        "wh_src[0][\"time\"]"
      ],
      "execution_count": null,
      "outputs": [
        {
          "output_type": "execute_result",
          "data": {
            "text/plain": [
              "'2020-09-25T06:16:34.114Z'"
            ]
          },
          "metadata": {
            "tags": []
          },
          "execution_count": 23
        }
      ]
    },
    {
      "cell_type": "markdown",
      "metadata": {
        "id": "-7jE95Df9g-c"
      },
      "source": [
        "For some reason, the channel information is saved under \"subtitles\"."
      ]
    },
    {
      "cell_type": "code",
      "metadata": {
        "id": "0CKQuNcT9g-c",
        "outputId": "0116defb-9f6f-4f91-f805-1efbe5508570"
      },
      "source": [
        "wh_src[0][\"subtitles\"][0][\"name\"]"
      ],
      "execution_count": null,
      "outputs": [
        {
          "output_type": "execute_result",
          "data": {
            "text/plain": [
              "'Paperless X'"
            ]
          },
          "metadata": {
            "tags": []
          },
          "execution_count": 24
        }
      ]
    },
    {
      "cell_type": "code",
      "metadata": {
        "id": "8kMlAlau9g-e",
        "outputId": "a228a8bd-f001-471e-ce10-be2c1d568c46"
      },
      "source": [
        "wh_src[0][\"subtitles\"][0][\"url\"]"
      ],
      "execution_count": null,
      "outputs": [
        {
          "output_type": "execute_result",
          "data": {
            "text/plain": [
              "'https://www.youtube.com/channel/UCCfATzxU-7qbvUuMWpjOLkQ'"
            ]
          },
          "metadata": {
            "tags": []
          },
          "execution_count": 25
        }
      ]
    },
    {
      "cell_type": "markdown",
      "metadata": {
        "id": "tPCscrM79g-g"
      },
      "source": [
        "The subtitles field is missing for videos which are no longer available. In this case the video url is given as the title."
      ]
    },
    {
      "cell_type": "code",
      "metadata": {
        "id": "Co6z8Gzl9g-h",
        "outputId": "34a44165-78ec-4cd8-c090-4732b498b224"
      },
      "source": [
        "for view in wh_src:\n",
        "    if \"subtitles\" not in view:\n",
        "        break\n",
        "view"
      ],
      "execution_count": null,
      "outputs": [
        {
          "output_type": "execute_result",
          "data": {
            "text/plain": [
              "{'header': 'YouTube',\n",
              " 'title': 'Watched https://www.youtube.com/watch?v=UzNM6ZEko9A',\n",
              " 'titleUrl': 'https://www.youtube.com/watch?v=UzNM6ZEko9A',\n",
              " 'time': '2020-09-24T20:00:22.126Z',\n",
              " 'products': ['YouTube']}"
            ]
          },
          "metadata": {
            "tags": []
          },
          "execution_count": 26
        }
      ]
    },
    {
      "cell_type": "markdown",
      "metadata": {
        "id": "pVancIlK9g-j"
      },
      "source": [
        "In other cases even the url is missing."
      ]
    },
    {
      "cell_type": "code",
      "metadata": {
        "id": "dD0nZVj39g-j",
        "outputId": "6b3cfd28-5b1b-4464-fc64-fb2d4e13c213"
      },
      "source": [
        "for view in wh_src:\n",
        "    if view[\"title\"] == \"Watched a video that has been removed\":\n",
        "        break\n",
        "view"
      ],
      "execution_count": null,
      "outputs": [
        {
          "output_type": "execute_result",
          "data": {
            "text/plain": [
              "{'header': 'YouTube',\n",
              " 'title': 'Watched a video that has been removed',\n",
              " 'time': '2020-06-05T19:23:25.181Z',\n",
              " 'products': ['YouTube']}"
            ]
          },
          "metadata": {
            "tags": []
          },
          "execution_count": 27
        }
      ]
    },
    {
      "cell_type": "markdown",
      "metadata": {
        "id": "CyIrzqKq9g-l"
      },
      "source": [
        "Viewed stories are also included and I just ignored them for the analysis."
      ]
    },
    {
      "cell_type": "code",
      "metadata": {
        "id": "VRBaZz7P9g-l",
        "outputId": "c8c85062-5d93-4932-98e1-2766c766a934"
      },
      "source": [
        "for view in wh_src:\n",
        "    if view[\"title\"].startswith(\"Watched story from \"):\n",
        "        break\n",
        "view"
      ],
      "execution_count": null,
      "outputs": [
        {
          "output_type": "execute_result",
          "data": {
            "text/plain": [
              "{'header': 'YouTube',\n",
              " 'title': 'Watched story from Scottecs',\n",
              " 'subtitles': [{'name': 'Scottecs',\n",
              "   'url': 'https://www.youtube.com/user/scottecs'}],\n",
              " 'time': '2020-09-11T15:58:55.488Z',\n",
              " 'products': ['YouTube']}"
            ]
          },
          "metadata": {
            "tags": []
          },
          "execution_count": 28
        }
      ]
    },
    {
      "cell_type": "markdown",
      "metadata": {
        "id": "aoBaErn-9g-n"
      },
      "source": [
        "Knowing this, I fed the information to a dictionary which I then converted to a `DataFrame`."
      ]
    },
    {
      "cell_type": "code",
      "metadata": {
        "id": "iQIOpnoQ9g-n",
        "outputId": "03285674-2168-40b7-ee01-674e02e339e8"
      },
      "source": [
        "wh_dict = {\n",
        "    \"video-title\": [],\n",
        "    \"video-url\": [],\n",
        "    \"time\": [],\n",
        "    \"channel-name\": [],\n",
        "    \"channel-url\": [],\n",
        "    \"subscribed\": [],\n",
        "}\n",
        "\n",
        "for view in wh_src:\n",
        "    video_title = view[\"title\"] \n",
        "    \n",
        "    # Ignore stories\n",
        "    if video_title.startswith(\"Watched story from \"):\n",
        "        continue\n",
        "    \n",
        "    # Read video title\n",
        "    video_title = video_title[len(\"Watched \"):]\n",
        "    wh_dict[\"video-title\"].append(video_title)\n",
        "    \n",
        "    # Read video url\n",
        "    if not \"titleUrl\" in view:\n",
        "        video_url = None\n",
        "    else:\n",
        "        video_url = view[\"titleUrl\"]\n",
        "    wh_dict[\"video-url\"].append(video_url)\n",
        "    \n",
        "    # Read view time\n",
        "    wh_dict[\"time\"].append(view[\"time\"])\n",
        "    \n",
        "    # Read the channel information if available\n",
        "    if not \"subtitles\" in view:\n",
        "        channel_name = None\n",
        "        channel_url = None \n",
        "    else:\n",
        "        channel_name = view[\"subtitles\"][0][\"name\"]\n",
        "        channel_url = view[\"subtitles\"][0][\"url\"]\n",
        "    \n",
        "    wh_dict[\"channel-name\"].append(channel_name)\n",
        "    wh_dict[\"channel-url\"].append(channel_url)\n",
        "    \n",
        "    # Check whether I am subscribed to the channel\n",
        "    if channel_url is None:\n",
        "        subscribed = None\n",
        "    else:\n",
        "        subscribed = channel_url in list(subs_df[\"channel-url\"])\n",
        "    wh_dict[\"subscribed\"].append(subscribed)\n",
        "    \n",
        "wh_df = pd.DataFrame(wh_dict)    \n",
        "wh_df[\"time\"] = pd.to_datetime(wh_df[\"time\"])\n",
        "\n",
        "wh_df.sample(5)"
      ],
      "execution_count": null,
      "outputs": [
        {
          "output_type": "execute_result",
          "data": {
            "text/html": [
              "<div>\n",
              "<style scoped>\n",
              "    .dataframe tbody tr th:only-of-type {\n",
              "        vertical-align: middle;\n",
              "    }\n",
              "\n",
              "    .dataframe tbody tr th {\n",
              "        vertical-align: top;\n",
              "    }\n",
              "\n",
              "    .dataframe thead th {\n",
              "        text-align: right;\n",
              "    }\n",
              "</style>\n",
              "<table border=\"1\" class=\"dataframe\">\n",
              "  <thead>\n",
              "    <tr style=\"text-align: right;\">\n",
              "      <th></th>\n",
              "      <th>video-title</th>\n",
              "      <th>video-url</th>\n",
              "      <th>time</th>\n",
              "      <th>channel-name</th>\n",
              "      <th>channel-url</th>\n",
              "      <th>subscribed</th>\n",
              "    </tr>\n",
              "  </thead>\n",
              "  <tbody>\n",
              "    <tr>\n",
              "      <th>1605</th>\n",
              "      <td>LA CENA IN FASE 2</td>\n",
              "      <td>https://www.youtube.com/watch?v=uMLbExDyRm4</td>\n",
              "      <td>2020-05-30 09:21:05.417000+00:00</td>\n",
              "      <td>Minimad</td>\n",
              "      <td>https://www.youtube.com/channel/UC0oObx_f7G_FV...</td>\n",
              "      <td>True</td>\n",
              "    </tr>\n",
              "    <tr>\n",
              "      <th>1521</th>\n",
              "      <td>Plant Diseases</td>\n",
              "      <td>https://www.youtube.com/watch?v=LFvaD2d8Vd4</td>\n",
              "      <td>2020-06-05 11:22:17.821000+00:00</td>\n",
              "      <td>Sam O'Nella Academy</td>\n",
              "      <td>https://www.youtube.com/channel/UC1DTYW241WD64...</td>\n",
              "      <td>True</td>\n",
              "    </tr>\n",
              "    <tr>\n",
              "      <th>270</th>\n",
              "      <td>The First Guy To Ever Have A Name</td>\n",
              "      <td>https://www.youtube.com/watch?v=jWBDa-2Y5LU</td>\n",
              "      <td>2020-09-10 17:44:52.063000+00:00</td>\n",
              "      <td>Ryan George</td>\n",
              "      <td>https://www.youtube.com/channel/UCh9IfI45mmk59...</td>\n",
              "      <td>False</td>\n",
              "    </tr>\n",
              "    <tr>\n",
              "      <th>661</th>\n",
              "      <td>Garbage Reviews: The Order 1886</td>\n",
              "      <td>https://www.youtube.com/watch?v=ij7PwB_KiZA</td>\n",
              "      <td>2020-08-11 10:15:57.029000+00:00</td>\n",
              "      <td>Kilian Experience</td>\n",
              "      <td>https://www.youtube.com/channel/UCjdQaSJCYS4o2...</td>\n",
              "      <td>True</td>\n",
              "    </tr>\n",
              "    <tr>\n",
              "      <th>806</th>\n",
              "      <td>I Crash The Economy Of A Game Without An Econo...</td>\n",
              "      <td>https://www.youtube.com/watch?v=Qdd3b_wp5r0</td>\n",
              "      <td>2020-07-29 19:49:13.445000+00:00</td>\n",
              "      <td>Kilian Experience</td>\n",
              "      <td>https://www.youtube.com/channel/UCjdQaSJCYS4o2...</td>\n",
              "      <td>True</td>\n",
              "    </tr>\n",
              "  </tbody>\n",
              "</table>\n",
              "</div>"
            ],
            "text/plain": [
              "                                            video-title  \\\n",
              "1605                                  LA CENA IN FASE 2   \n",
              "1521                                     Plant Diseases   \n",
              "270                   The First Guy To Ever Have A Name   \n",
              "661                     Garbage Reviews: The Order 1886   \n",
              "806   I Crash The Economy Of A Game Without An Econo...   \n",
              "\n",
              "                                        video-url  \\\n",
              "1605  https://www.youtube.com/watch?v=uMLbExDyRm4   \n",
              "1521  https://www.youtube.com/watch?v=LFvaD2d8Vd4   \n",
              "270   https://www.youtube.com/watch?v=jWBDa-2Y5LU   \n",
              "661   https://www.youtube.com/watch?v=ij7PwB_KiZA   \n",
              "806   https://www.youtube.com/watch?v=Qdd3b_wp5r0   \n",
              "\n",
              "                                 time         channel-name  \\\n",
              "1605 2020-05-30 09:21:05.417000+00:00              Minimad   \n",
              "1521 2020-06-05 11:22:17.821000+00:00  Sam O'Nella Academy   \n",
              "270  2020-09-10 17:44:52.063000+00:00          Ryan George   \n",
              "661  2020-08-11 10:15:57.029000+00:00    Kilian Experience   \n",
              "806  2020-07-29 19:49:13.445000+00:00    Kilian Experience   \n",
              "\n",
              "                                            channel-url subscribed  \n",
              "1605  https://www.youtube.com/channel/UC0oObx_f7G_FV...       True  \n",
              "1521  https://www.youtube.com/channel/UC1DTYW241WD64...       True  \n",
              "270   https://www.youtube.com/channel/UCh9IfI45mmk59...      False  \n",
              "661   https://www.youtube.com/channel/UCjdQaSJCYS4o2...       True  \n",
              "806   https://www.youtube.com/channel/UCjdQaSJCYS4o2...       True  "
            ]
          },
          "metadata": {
            "tags": []
          },
          "execution_count": 29
        }
      ]
    },
    {
      "cell_type": "code",
      "metadata": {
        "id": "wESqNydR9g-p",
        "outputId": "8f6e3e45-dff3-4c61-a674-53334ad13725"
      },
      "source": [
        "jovian.commit(environment=\"pip\")"
      ],
      "execution_count": null,
      "outputs": [
        {
          "output_type": "display_data",
          "data": {
            "application/javascript": [
              "window.require && require([\"base/js/namespace\"],function(Jupyter){Jupyter.notebook.save_checkpoint()})"
            ],
            "text/plain": [
              "<IPython.core.display.Javascript object>"
            ]
          },
          "metadata": {
            "tags": []
          }
        },
        {
          "output_type": "stream",
          "text": [
            "[jovian] Attempting to save notebook..\n",
            "[jovian] Updating notebook \"lucafrance/learning-from-my-youtube-watch-history\" on https://jovian.ml/\n",
            "[jovian] Uploading notebook..\n",
            "[jovian] Capturing environment..\n",
            "[jovian] Committed successfully! https://jovian.ml/lucafrance/learning-from-my-youtube-watch-history\n"
          ],
          "name": "stdout"
        },
        {
          "output_type": "execute_result",
          "data": {
            "text/plain": [
              "'https://jovian.ml/lucafrance/learning-from-my-youtube-watch-history'"
            ]
          },
          "metadata": {
            "tags": []
          },
          "execution_count": 30
        }
      ]
    },
    {
      "cell_type": "markdown",
      "metadata": {
        "id": "_jrt0U6R9g-s"
      },
      "source": [
        "## Learning from data "
      ]
    },
    {
      "cell_type": "markdown",
      "metadata": {
        "id": "v89Z5rof9g-s"
      },
      "source": [
        "### How many videos did I watch? "
      ]
    },
    {
      "cell_type": "code",
      "metadata": {
        "id": "ahLwIGw19g-t"
      },
      "source": [
        "views_count = len(wh_df)"
      ],
      "execution_count": null,
      "outputs": []
    },
    {
      "cell_type": "code",
      "metadata": {
        "id": "4vcNLuEW9g-u"
      },
      "source": [
        "max_time = wh_df[\"time\"].max()\n",
        "min_time = wh_df[\"time\"].min()"
      ],
      "execution_count": null,
      "outputs": []
    },
    {
      "cell_type": "code",
      "metadata": {
        "id": "dY_cC-Ns9g-w",
        "outputId": "0fc97429-940c-4cb3-8d63-bf5d59aa9702"
      },
      "source": [
        "print(\"The dataset includes views from {} to {}.\".format(min_time, max_time))"
      ],
      "execution_count": null,
      "outputs": [
        {
          "output_type": "stream",
          "text": [
            "The dataset includes views from 2020-05-29 13:13:23.835000+00:00 to 2020-09-25 06:16:34.114000+00:00.\n"
          ],
          "name": "stdout"
        }
      ]
    },
    {
      "cell_type": "code",
      "metadata": {
        "id": "ECLkfmep9g-y"
      },
      "source": [
        "days_count = max_time - min_time\n",
        "days_count = days_count.days"
      ],
      "execution_count": null,
      "outputs": []
    },
    {
      "cell_type": "code",
      "metadata": {
        "id": "6jiwF2zu9g-0"
      },
      "source": [
        "avg_views = views_count / days_count"
      ],
      "execution_count": null,
      "outputs": []
    },
    {
      "cell_type": "code",
      "metadata": {
        "id": "6d1sMS5U9g-3",
        "outputId": "66d3d4b4-e2e8-4dbe-ef48-72fd9c1407bf"
      },
      "source": [
        "print(\"I watched {} videos over {} days. That's an average of {:.1f} per day.\".format(views_count, days_count, avg_views))"
      ],
      "execution_count": null,
      "outputs": [
        {
          "output_type": "stream",
          "text": [
            "I watched 1615 videos over 118 days. That's an average of 13.7 per day.\n"
          ],
          "name": "stdout"
        }
      ]
    },
    {
      "cell_type": "code",
      "metadata": {
        "id": "RmqmqP5n9g-6"
      },
      "source": [
        "count_subscribed = len(wh_df[wh_df[\"subscribed\"] == True])\n",
        "count_not_subscribed = len(wh_df[wh_df[\"subscribed\"] == False])\n",
        "count_missing = len(wh_df) - count_subscribed - count_not_subscribed"
      ],
      "execution_count": null,
      "outputs": []
    },
    {
      "cell_type": "code",
      "metadata": {
        "id": "UF6cADTn9g-9",
        "outputId": "c9d2bb21-e5a0-428f-e767-46e8d81ced9b"
      },
      "source": [
        "print(\"I was subscribed to the channel for {} views, not subscribed for {}, and {} videos I watched are no longer available.\".format(count_subscribed, count_not_subscribed, count_missing))"
      ],
      "execution_count": null,
      "outputs": [
        {
          "output_type": "stream",
          "text": [
            "I was subscribed to the channel for 1120 views, not subscribed for 484, and 11 videos I watched are no longer available.\n"
          ],
          "name": "stdout"
        }
      ]
    },
    {
      "cell_type": "code",
      "metadata": {
        "id": "9-lVpqrZ9g-_"
      },
      "source": [
        "df = pd.DataFrame({\n",
        "    \"channel status\": [\"subscribed\", \"not subscribed\", \"not available\"],\n",
        "    \"view count\": [count_subscribed, count_not_subscribed, count_missing],\n",
        "})"
      ],
      "execution_count": null,
      "outputs": []
    },
    {
      "cell_type": "code",
      "metadata": {
        "id": "rL7E7EUQ9g_B",
        "outputId": "664157bc-1c30-424c-f70b-f698d1761aea"
      },
      "source": [
        "sns.barplot(y=\"channel status\", x=\"view count\", data=df)"
      ],
      "execution_count": null,
      "outputs": [
        {
          "output_type": "execute_result",
          "data": {
            "text/plain": [
              "<AxesSubplot:xlabel='view count', ylabel='channel status'>"
            ]
          },
          "metadata": {
            "tags": []
          },
          "execution_count": 40
        },
        {
          "output_type": "display_data",
          "data": {
            "image/png": "[encoded data removed]",
            "text/plain": [
              "<Figure size 432x288 with 1 Axes>"
            ]
          },
          "metadata": {
            "tags": [],
            "needs_background": "light"
          }
        }
      ]
    },
    {
      "cell_type": "markdown",
      "metadata": {
        "id": "aQY-qO4e9g_D"
      },
      "source": [
        "### Whend did I watch the most videos?"
      ]
    },
    {
      "cell_type": "markdown",
      "metadata": {
        "id": "bRbDVV5j9g_D"
      },
      "source": [
        "To know when my watch time is concentrated, I added a weekday and a watch hour column to the `DataFrame` based on the watch time. I also added a column just with ones to be pivoted and summed in a heath map."
      ]
    },
    {
      "cell_type": "code",
      "metadata": {
        "id": "BluNbkPI9g_E",
        "outputId": "1d82efa4-aad7-4257-9ddb-48d56f5ccc64"
      },
      "source": [
        "wh_df[\"weekday\"] = [timestamp.isoweekday() for timestamp in wh_df[\"time\"]]\n",
        "wh_df[\"hour\"] = [timestamp.hour for timestamp in wh_df[\"time\"]]\n",
        "wh_df[\"ones\"] = np.ones(len(wh_df))\n",
        "\n",
        "wh_df[[\"time\", \"weekday\", \"hour\", \"ones\"]].sample(5)"
      ],
      "execution_count": null,
      "outputs": [
        {
          "output_type": "execute_result",
          "data": {
            "text/html": [
              "<div>\n",
              "<style scoped>\n",
              "    .dataframe tbody tr th:only-of-type {\n",
              "        vertical-align: middle;\n",
              "    }\n",
              "\n",
              "    .dataframe tbody tr th {\n",
              "        vertical-align: top;\n",
              "    }\n",
              "\n",
              "    .dataframe thead th {\n",
              "        text-align: right;\n",
              "    }\n",
              "</style>\n",
              "<table border=\"1\" class=\"dataframe\">\n",
              "  <thead>\n",
              "    <tr style=\"text-align: right;\">\n",
              "      <th></th>\n",
              "      <th>time</th>\n",
              "      <th>weekday</th>\n",
              "      <th>hour</th>\n",
              "      <th>ones</th>\n",
              "    </tr>\n",
              "  </thead>\n",
              "  <tbody>\n",
              "    <tr>\n",
              "      <th>773</th>\n",
              "      <td>2020-07-31 14:16:24.693000+00:00</td>\n",
              "      <td>5</td>\n",
              "      <td>14</td>\n",
              "      <td>1.0</td>\n",
              "    </tr>\n",
              "    <tr>\n",
              "      <th>1186</th>\n",
              "      <td>2020-07-04 15:40:15.271000+00:00</td>\n",
              "      <td>6</td>\n",
              "      <td>15</td>\n",
              "      <td>1.0</td>\n",
              "    </tr>\n",
              "    <tr>\n",
              "      <th>469</th>\n",
              "      <td>2020-08-28 04:25:18.583000+00:00</td>\n",
              "      <td>5</td>\n",
              "      <td>4</td>\n",
              "      <td>1.0</td>\n",
              "    </tr>\n",
              "    <tr>\n",
              "      <th>89</th>\n",
              "      <td>2020-09-20 07:36:22.412000+00:00</td>\n",
              "      <td>7</td>\n",
              "      <td>7</td>\n",
              "      <td>1.0</td>\n",
              "    </tr>\n",
              "    <tr>\n",
              "      <th>555</th>\n",
              "      <td>2020-08-19 10:23:31.273000+00:00</td>\n",
              "      <td>3</td>\n",
              "      <td>10</td>\n",
              "      <td>1.0</td>\n",
              "    </tr>\n",
              "  </tbody>\n",
              "</table>\n",
              "</div>"
            ],
            "text/plain": [
              "                                 time  weekday  hour  ones\n",
              "773  2020-07-31 14:16:24.693000+00:00        5    14   1.0\n",
              "1186 2020-07-04 15:40:15.271000+00:00        6    15   1.0\n",
              "469  2020-08-28 04:25:18.583000+00:00        5     4   1.0\n",
              "89   2020-09-20 07:36:22.412000+00:00        7     7   1.0\n",
              "555  2020-08-19 10:23:31.273000+00:00        3    10   1.0"
            ]
          },
          "metadata": {
            "tags": []
          },
          "execution_count": 41
        }
      ]
    },
    {
      "cell_type": "code",
      "metadata": {
        "id": "99wXpdHU9g_G"
      },
      "source": [
        "views = wh_df.pivot_table(index=\"weekday\", columns=\"hour\", values=\"ones\", aggfunc=np.sum, fill_value=0)"
      ],
      "execution_count": null,
      "outputs": []
    },
    {
      "cell_type": "code",
      "metadata": {
        "id": "KAp5_oP99g_I",
        "outputId": "578c05c5-fc46-44e3-fbe2-120c313ef3b0"
      },
      "source": [
        "plt.figure(figsize = (11, 5))\n",
        "sns.heatmap(views, annot=True, cmap=\"GnBu\")"
      ],
      "execution_count": null,
      "outputs": [
        {
          "output_type": "execute_result",
          "data": {
            "text/plain": [
              "<AxesSubplot:xlabel='hour', ylabel='weekday'>"
            ]
          },
          "metadata": {
            "tags": []
          },
          "execution_count": 43
        },
        {
          "output_type": "display_data",
          "data": {
            "image/png": "[encoded data removed]",
            "text/plain": [
              "<Figure size 792x360 with 2 Axes>"
            ]
          },
          "metadata": {
            "tags": [],
            "needs_background": "light"
          }
        }
      ]
    },
    {
      "cell_type": "markdown",
      "metadata": {
        "id": "Fi4-XfbZ9g_K"
      },
      "source": [
        "I watched videos mostly in the morning and in the evening on weekdays, while my views are more spread out on weekends."
      ]
    },
    {
      "cell_type": "markdown",
      "metadata": {
        "id": "vYYwGz6r9g_K"
      },
      "source": [
        "I also wanted to know whether my YouTube usage changed over time, for that I added a week number column and pivoted over it to plot the views per week."
      ]
    },
    {
      "cell_type": "code",
      "metadata": {
        "id": "EGz0keZP9g_K",
        "outputId": "97d17fac-8948-400d-dac5-3cd4a7a67caa"
      },
      "source": [
        "wh_df[\"weeknum\"] = [timestamp.isocalendar()[1] for timestamp in wh_df[\"time\"]]\n",
        "\n",
        "wh_df[[\"time\", \"weeknum\"]].sample(5)"
      ],
      "execution_count": null,
      "outputs": [
        {
          "output_type": "execute_result",
          "data": {
            "text/html": [
              "<div>\n",
              "<style scoped>\n",
              "    .dataframe tbody tr th:only-of-type {\n",
              "        vertical-align: middle;\n",
              "    }\n",
              "\n",
              "    .dataframe tbody tr th {\n",
              "        vertical-align: top;\n",
              "    }\n",
              "\n",
              "    .dataframe thead th {\n",
              "        text-align: right;\n",
              "    }\n",
              "</style>\n",
              "<table border=\"1\" class=\"dataframe\">\n",
              "  <thead>\n",
              "    <tr style=\"text-align: right;\">\n",
              "      <th></th>\n",
              "      <th>time</th>\n",
              "      <th>weeknum</th>\n",
              "    </tr>\n",
              "  </thead>\n",
              "  <tbody>\n",
              "    <tr>\n",
              "      <th>364</th>\n",
              "      <td>2020-09-04 07:53:36.795000+00:00</td>\n",
              "      <td>36</td>\n",
              "    </tr>\n",
              "    <tr>\n",
              "      <th>892</th>\n",
              "      <td>2020-07-22 17:03:49.425000+00:00</td>\n",
              "      <td>30</td>\n",
              "    </tr>\n",
              "    <tr>\n",
              "      <th>382</th>\n",
              "      <td>2020-09-02 13:56:22.881000+00:00</td>\n",
              "      <td>36</td>\n",
              "    </tr>\n",
              "    <tr>\n",
              "      <th>968</th>\n",
              "      <td>2020-07-18 09:45:14.926000+00:00</td>\n",
              "      <td>29</td>\n",
              "    </tr>\n",
              "    <tr>\n",
              "      <th>1444</th>\n",
              "      <td>2020-06-10 04:46:37.595000+00:00</td>\n",
              "      <td>24</td>\n",
              "    </tr>\n",
              "  </tbody>\n",
              "</table>\n",
              "</div>"
            ],
            "text/plain": [
              "                                 time  weeknum\n",
              "364  2020-09-04 07:53:36.795000+00:00       36\n",
              "892  2020-07-22 17:03:49.425000+00:00       30\n",
              "382  2020-09-02 13:56:22.881000+00:00       36\n",
              "968  2020-07-18 09:45:14.926000+00:00       29\n",
              "1444 2020-06-10 04:46:37.595000+00:00       24"
            ]
          },
          "metadata": {
            "tags": []
          },
          "execution_count": 44
        }
      ]
    },
    {
      "cell_type": "code",
      "metadata": {
        "id": "CG2Fx_AY9g_M",
        "outputId": "3c2d7d6d-84ae-40a4-ceb4-77b749749532"
      },
      "source": [
        "df = wh_df.groupby(\"weeknum\").count()\n",
        "df.reset_index(inplace=True)\n",
        "df.rename(columns=({\"video-title\": \"view count\"}), inplace=True)\n",
        "df = df[[\"weeknum\", \"view count\"]]\n",
        "\n",
        "df.sample(5)"
      ],
      "execution_count": null,
      "outputs": [
        {
          "output_type": "execute_result",
          "data": {
            "text/html": [
              "<div>\n",
              "<style scoped>\n",
              "    .dataframe tbody tr th:only-of-type {\n",
              "        vertical-align: middle;\n",
              "    }\n",
              "\n",
              "    .dataframe tbody tr th {\n",
              "        vertical-align: top;\n",
              "    }\n",
              "\n",
              "    .dataframe thead th {\n",
              "        text-align: right;\n",
              "    }\n",
              "</style>\n",
              "<table border=\"1\" class=\"dataframe\">\n",
              "  <thead>\n",
              "    <tr style=\"text-align: right;\">\n",
              "      <th></th>\n",
              "      <th>weeknum</th>\n",
              "      <th>view count</th>\n",
              "    </tr>\n",
              "  </thead>\n",
              "  <tbody>\n",
              "    <tr>\n",
              "      <th>0</th>\n",
              "      <td>22</td>\n",
              "      <td>35</td>\n",
              "    </tr>\n",
              "    <tr>\n",
              "      <th>7</th>\n",
              "      <td>29</td>\n",
              "      <td>111</td>\n",
              "    </tr>\n",
              "    <tr>\n",
              "      <th>4</th>\n",
              "      <td>26</td>\n",
              "      <td>77</td>\n",
              "    </tr>\n",
              "    <tr>\n",
              "      <th>13</th>\n",
              "      <td>35</td>\n",
              "      <td>89</td>\n",
              "    </tr>\n",
              "    <tr>\n",
              "      <th>8</th>\n",
              "      <td>30</td>\n",
              "      <td>81</td>\n",
              "    </tr>\n",
              "  </tbody>\n",
              "</table>\n",
              "</div>"
            ],
            "text/plain": [
              "    weeknum  view count\n",
              "0        22          35\n",
              "7        29         111\n",
              "4        26          77\n",
              "13       35          89\n",
              "8        30          81"
            ]
          },
          "metadata": {
            "tags": []
          },
          "execution_count": 45
        }
      ]
    },
    {
      "cell_type": "code",
      "metadata": {
        "id": "SoRZdbXJ9g_O",
        "outputId": "73cc77f9-2bb8-4e61-cdaf-0983b749772e"
      },
      "source": [
        "sns.barplot(x=\"weeknum\", y=\"view count\", data=df)"
      ],
      "execution_count": null,
      "outputs": [
        {
          "output_type": "execute_result",
          "data": {
            "text/plain": [
              "<AxesSubplot:xlabel='weeknum', ylabel='view count'>"
            ]
          },
          "metadata": {
            "tags": []
          },
          "execution_count": 46
        },
        {
          "output_type": "display_data",
          "data": {
            "image/png": "[encoded data removed]",
            "text/plain": [
              "<Figure size 432x288 with 1 Axes>"
            ]
          },
          "metadata": {
            "tags": [],
            "needs_background": "light"
          }
        }
      ]
    },
    {
      "cell_type": "markdown",
      "metadata": {
        "id": "KlmQBzHw9g_Q"
      },
      "source": [
        "There is no clear pattern here. Maybe on a bigger time scale it would be possible to see a trend."
      ]
    },
    {
      "cell_type": "markdown",
      "metadata": {
        "id": "wjMOSate9g_R"
      },
      "source": [
        "### Which channels do I watch the most?\n",
        "Similarly to the view count over time, I pivoted the view count over the channels and then plotted the views for the most viewed channels."
      ]
    },
    {
      "cell_type": "code",
      "metadata": {
        "id": "9aEp4Kz89g_R",
        "outputId": "0316d1e9-86ea-4c01-e822-bc66ad6bd818"
      },
      "source": [
        "# Count the views per channel\n",
        "df = wh_df.groupby(\"channel-name\").count()\n",
        "# Reset the the channel-name from index to column for the plot\n",
        "df.reset_index(inplace=True)\n",
        "# All other columns include the view count, rename one of them to \"view count\" for the plot\n",
        "df.rename(columns=({\"video-title\": \"view count\"}), inplace=True)\n",
        "# Take and sort a sub-DataFrame to be plotted\n",
        "df = df[[\"channel-name\", \"view count\"]]\n",
        "df.sort_values(by=\"view count\", ascending=False, inplace=True)\n",
        "\n",
        "df.head(10)"
      ],
      "execution_count": null,
      "outputs": [
        {
          "output_type": "execute_result",
          "data": {
            "text/html": [
              "<div>\n",
              "<style scoped>\n",
              "    .dataframe tbody tr th:only-of-type {\n",
              "        vertical-align: middle;\n",
              "    }\n",
              "\n",
              "    .dataframe tbody tr th {\n",
              "        vertical-align: top;\n",
              "    }\n",
              "\n",
              "    .dataframe thead th {\n",
              "        text-align: right;\n",
              "    }\n",
              "</style>\n",
              "<table border=\"1\" class=\"dataframe\">\n",
              "  <thead>\n",
              "    <tr style=\"text-align: right;\">\n",
              "      <th></th>\n",
              "      <th>channel-name</th>\n",
              "      <th>view count</th>\n",
              "    </tr>\n",
              "  </thead>\n",
              "  <tbody>\n",
              "    <tr>\n",
              "      <th>166</th>\n",
              "      <td>Linus Tech Tips</td>\n",
              "      <td>91</td>\n",
              "    </tr>\n",
              "    <tr>\n",
              "      <th>116</th>\n",
              "      <td>Gus Johnson</td>\n",
              "      <td>79</td>\n",
              "    </tr>\n",
              "    <tr>\n",
              "      <th>151</th>\n",
              "      <td>Kilian Experience</td>\n",
              "      <td>72</td>\n",
              "    </tr>\n",
              "    <tr>\n",
              "      <th>220</th>\n",
              "      <td>Ryan George</td>\n",
              "      <td>72</td>\n",
              "    </tr>\n",
              "    <tr>\n",
              "      <th>224</th>\n",
              "      <td>Sam O'Nella Academy</td>\n",
              "      <td>65</td>\n",
              "    </tr>\n",
              "    <tr>\n",
              "      <th>338</th>\n",
              "      <td>sentdex</td>\n",
              "      <td>43</td>\n",
              "    </tr>\n",
              "    <tr>\n",
              "      <th>42</th>\n",
              "      <td>CGP Grey</td>\n",
              "      <td>37</td>\n",
              "    </tr>\n",
              "    <tr>\n",
              "      <th>258</th>\n",
              "      <td>The Escapist</td>\n",
              "      <td>33</td>\n",
              "    </tr>\n",
              "    <tr>\n",
              "      <th>67</th>\n",
              "      <td>Computerphile</td>\n",
              "      <td>30</td>\n",
              "    </tr>\n",
              "    <tr>\n",
              "      <th>119</th>\n",
              "      <td>Half as Interesting</td>\n",
              "      <td>30</td>\n",
              "    </tr>\n",
              "  </tbody>\n",
              "</table>\n",
              "</div>"
            ],
            "text/plain": [
              "            channel-name  view count\n",
              "166      Linus Tech Tips          91\n",
              "116          Gus Johnson          79\n",
              "151    Kilian Experience          72\n",
              "220          Ryan George          72\n",
              "224  Sam O'Nella Academy          65\n",
              "338              sentdex          43\n",
              "42              CGP Grey          37\n",
              "258         The Escapist          33\n",
              "67         Computerphile          30\n",
              "119  Half as Interesting          30"
            ]
          },
          "metadata": {
            "tags": []
          },
          "execution_count": 47
        }
      ]
    },
    {
      "cell_type": "code",
      "metadata": {
        "id": "bB2aTU6c9g_W",
        "outputId": "7bf4445d-31cd-40b6-bbf1-6d81e2835116"
      },
      "source": [
        "plt.figure(figsize = (10, 10))\n",
        "sns.barplot(y=\"channel-name\", x=\"view count\", data=df.head(10))"
      ],
      "execution_count": null,
      "outputs": [
        {
          "output_type": "execute_result",
          "data": {
            "text/plain": [
              "<AxesSubplot:xlabel='view count', ylabel='channel-name'>"
            ]
          },
          "metadata": {
            "tags": []
          },
          "execution_count": 48
        },
        {
          "output_type": "display_data",
          "data": {
            "image/png": "[encoded data removed]",
            "text/plain": [
              "<Figure size 720x720 with 1 Axes>"
            ]
          },
          "metadata": {
            "tags": [],
            "needs_background": "light"
          }
        }
      ]
    },
    {
      "cell_type": "markdown",
      "metadata": {
        "id": "RJUqnkhj9g_X"
      },
      "source": [
        "Unsurprisingly, I got confirmation that I am a nerd and that I like comedy."
      ]
    },
    {
      "cell_type": "markdown",
      "metadata": {
        "id": "DcWZNd-Q9g_Z"
      },
      "source": [
        "### How many channels do I actively watch? "
      ]
    },
    {
      "cell_type": "markdown",
      "metadata": {
        "id": "6fUYPBY-9g_Z"
      },
      "source": [
        "I also wanted to compare how my views were spread across different channels. For that I needed a list of:\n",
        "* all the channels I watched or was subscribed to, \n",
        "* whether I was subscribed to them, \n",
        "* and how many videos did I watch."
      ]
    },
    {
      "cell_type": "code",
      "metadata": {
        "id": "cmjwJIle9g_a",
        "outputId": "8620e45e-2009-41cc-cee7-b726d38dac1a"
      },
      "source": [
        "#Combine the channels from the watch history and subscription list\n",
        "channels_arr = wh_df[\"channel-name\"].append(subs_df[\"channel-name\"]).unique()\n",
        "channels_df = pd.DataFrame({\"channel-name\": channels_arr})\n",
        "# Remove None value (it exists because of removed videos)\n",
        "channels_df.dropna(inplace=True)\n",
        "# Compute whether I am subscribed to the channel\n",
        "channels_df[\"subscribed\"] = [channel in list(subs_df[\"channel-name\"]) for channel in list(channels_df[\"channel-name\"])]\n",
        "# Count the number of views\n",
        "channels_df[\"view-count\"] = [np.sum(wh_df[\"channel-name\"] == channel_name) for channel_name in list(channels_df[\"channel-name\"])]\n",
        "\n",
        "channels_df.sample(5)"
      ],
      "execution_count": null,
      "outputs": [
        {
          "output_type": "execute_result",
          "data": {
            "text/html": [
              "<div>\n",
              "<style scoped>\n",
              "    .dataframe tbody tr th:only-of-type {\n",
              "        vertical-align: middle;\n",
              "    }\n",
              "\n",
              "    .dataframe tbody tr th {\n",
              "        vertical-align: top;\n",
              "    }\n",
              "\n",
              "    .dataframe thead th {\n",
              "        text-align: right;\n",
              "    }\n",
              "</style>\n",
              "<table border=\"1\" class=\"dataframe\">\n",
              "  <thead>\n",
              "    <tr style=\"text-align: right;\">\n",
              "      <th></th>\n",
              "      <th>channel-name</th>\n",
              "      <th>subscribed</th>\n",
              "      <th>view-count</th>\n",
              "    </tr>\n",
              "  </thead>\n",
              "  <tbody>\n",
              "    <tr>\n",
              "      <th>223</th>\n",
              "      <td>Vsauce</td>\n",
              "      <td>True</td>\n",
              "      <td>1</td>\n",
              "    </tr>\n",
              "    <tr>\n",
              "      <th>158</th>\n",
              "      <td>explainity ® Erklärvideos</td>\n",
              "      <td>False</td>\n",
              "      <td>1</td>\n",
              "    </tr>\n",
              "    <tr>\n",
              "      <th>366</th>\n",
              "      <td>Joel Spolsky</td>\n",
              "      <td>True</td>\n",
              "      <td>0</td>\n",
              "    </tr>\n",
              "    <tr>\n",
              "      <th>129</th>\n",
              "      <td>MYPC</td>\n",
              "      <td>False</td>\n",
              "      <td>1</td>\n",
              "    </tr>\n",
              "    <tr>\n",
              "      <th>376</th>\n",
              "      <td>8-Bit Keys</td>\n",
              "      <td>True</td>\n",
              "      <td>0</td>\n",
              "    </tr>\n",
              "  </tbody>\n",
              "</table>\n",
              "</div>"
            ],
            "text/plain": [
              "                  channel-name  subscribed  view-count\n",
              "223                     Vsauce        True           1\n",
              "158  explainity ® Erklärvideos       False           1\n",
              "366               Joel Spolsky        True           0\n",
              "129                       MYPC       False           1\n",
              "376                 8-Bit Keys        True           0"
            ]
          },
          "metadata": {
            "tags": []
          },
          "execution_count": 49
        }
      ]
    },
    {
      "cell_type": "markdown",
      "metadata": {
        "id": "dPDLtzFA9g_b"
      },
      "source": [
        "I then plotted the number of channels per view count on two histograms, one for the subscribed channels and one for the not subscribed channels."
      ]
    },
    {
      "cell_type": "code",
      "metadata": {
        "id": "v6EYYC3s9g_c",
        "outputId": "06a5a706-8753-44bb-827f-4f31c752e4fe"
      },
      "source": [
        "channels_subscribed_df = channels_df[channels_df[\"subscribed\"] == True][\"view-count\"] # == True is redundant but left for clarity\n",
        "channels_not_subscribed_df = channels_df[channels_df[\"subscribed\"] == False][\"view-count\"]\n",
        "\n",
        "fig, axes = plt.subplots(1, 2, figsize=(20, 5))\n",
        "bins = np.arange(0, 100, 1)\n",
        "\n",
        "axes[0].set_title(\"Distribution of views per channel\\n(subscribed channels)\")\n",
        "axes[0].hist(channels_subscribed_df, bins=bins)\n",
        "\n",
        "axes[1].set_title(\"Distribution of views per channel\\n(not subscribed channels)\")\n",
        "axes[1].hist(channels_not_subscribed_df, bins=bins)\n",
        "\n",
        "for i in [0, 1]:\n",
        "    axes[i].set_xlabel(\"view count\")\n",
        "    axes[i].set_ylabel(\"channel count\")\n",
        "    axes[i].set_ylim(0, 220)"
      ],
      "execution_count": null,
      "outputs": [
        {
          "output_type": "display_data",
          "data": {
            "image/png": "[encoded data removed]",
            "text/plain": [
              "<Figure size 1440x360 with 2 Axes>"
            ]
          },
          "metadata": {
            "tags": [],
            "needs_background": "light"
          }
        }
      ]
    },
    {
      "cell_type": "markdown",
      "metadata": {
        "id": "MFlsf6Xj9g_d"
      },
      "source": [
        "There are several subscribed channels I don't actively watch, as they have zero views. Most channels are under 30 views, with few channels having much more, even close to 100 views.\n",
        "\n",
        "Most of the time I only watch one video when not subscribed to the channel. There are no unsubscribed channels with zero views, as they otherwise would not be included in the source data."
      ]
    },
    {
      "cell_type": "code",
      "metadata": {
        "id": "TSK1W3iI9g_d",
        "outputId": "aeec23ef-d79a-4d0a-c162-5bbc096f890c"
      },
      "source": [
        "jovian.commit(environment=\"pip\")"
      ],
      "execution_count": null,
      "outputs": [
        {
          "output_type": "display_data",
          "data": {
            "application/javascript": [
              "window.require && require([\"base/js/namespace\"],function(Jupyter){Jupyter.notebook.save_checkpoint()})"
            ],
            "text/plain": [
              "<IPython.core.display.Javascript object>"
            ]
          },
          "metadata": {
            "tags": []
          }
        },
        {
          "output_type": "stream",
          "text": [
            "[jovian] Attempting to save notebook..\n",
            "[jovian] Updating notebook \"lucafrance/learning-from-my-youtube-watch-history\" on https://jovian.ml/\n",
            "[jovian] Uploading notebook..\n",
            "[jovian] Capturing environment..\n",
            "[jovian] Committed successfully! https://jovian.ml/lucafrance/learning-from-my-youtube-watch-history\n"
          ],
          "name": "stdout"
        },
        {
          "output_type": "execute_result",
          "data": {
            "text/plain": [
              "'https://jovian.ml/lucafrance/learning-from-my-youtube-watch-history'"
            ]
          },
          "metadata": {
            "tags": []
          },
          "execution_count": 51
        }
      ]
    },
    {
      "cell_type": "markdown",
      "metadata": {
        "id": "u7d8kiej9g_f"
      },
      "source": [
        "## Next Steps\n",
        "This data was useful but uncomfortable to see. I did not expect to have such heavy usage late at night disrupting my sleep cycle. Still, I was pleasantly surprised to see that my weekend usage was relatively low, probably because I tend to engage in other activities. On the other hand, I am more vulnerable on weekdays in the evenings. Therefore I am implementing a safeguarding solution by blocking YouTube on my network from Monday to Thursday."
      ]
    },
    {
      "cell_type": "markdown",
      "metadata": {
        "id": "A7gaQ0uR9g_f"
      },
      "source": [
        "![immagine.png](attachment:ae9b80b7-af72-4547-b42d-7d00cb8568bb.png)"
      ]
    },
    {
      "cell_type": "markdown",
      "metadata": {
        "id": "EXeN3MBE9g_f"
      },
      "source": [
        "Unfortunately my router does not support blocking websites on specific days, therefore I set a reminder every Sunday to ensure I turn it on again. \n",
        "\n",
        "This measure adds the minor inconvenience of also blocking useful tutorial videos I don't mind watching. fortunately, [I already wrote a script to download them in advance](https://github.com/lucafrance/videotutorial-hoarding).\n",
        "\n",
        "I can still deactivate the restriction at any moment, therefore I must verify whether my willpower will be enough to resist the urge. Publishing this notebook online should also help as committment device. The system does not need to be failsafe, it just needs to add enough friction to my undesirable behaviour to make the transition easier.\n",
        "\n",
        "Will it work? Maybe that will be the topic of a future notebook."
      ]
    },
    {
      "cell_type": "code",
      "metadata": {
        "id": "0pWPYiuA9g_f",
        "outputId": "24df91f4-e2a9-473a-d2cb-820287d868d3"
      },
      "source": [
        "jovian.commit(environment=\"pip\")"
      ],
      "execution_count": null,
      "outputs": [
        {
          "output_type": "display_data",
          "data": {
            "application/javascript": [
              "window.require && require([\"base/js/namespace\"],function(Jupyter){Jupyter.notebook.save_checkpoint()})"
            ],
            "text/plain": [
              "<IPython.core.display.Javascript object>"
            ]
          },
          "metadata": {
            "tags": []
          }
        },
        {
          "output_type": "stream",
          "text": [
            "[jovian] Attempting to save notebook..\n",
            "[jovian] Updating notebook \"lucafrance/learning-from-my-youtube-watch-history\" on https://jovian.ml/\n",
            "[jovian] Uploading notebook..\n",
            "[jovian] Capturing environment..\n",
            "[jovian] Committed successfully! https://jovian.ml/lucafrance/learning-from-my-youtube-watch-history\n"
          ],
          "name": "stdout"
        },
        {
          "output_type": "execute_result",
          "data": {
            "text/plain": [
              "'https://jovian.ml/lucafrance/learning-from-my-youtube-watch-history'"
            ]
          },
          "metadata": {
            "tags": []
          },
          "execution_count": 52
        }
      ]
    }
  ]
}